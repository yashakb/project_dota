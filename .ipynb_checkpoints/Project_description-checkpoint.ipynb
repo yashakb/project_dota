{
 "cells": [
  {
   "cell_type": "markdown",
   "metadata": {},
   "source": [
    "## Dota Science project\n",
    "\n",
    "Многие знают MOBA игру Dota2, собственно, мы решили замутить некоторый data science по данным этой игры и вот что из этого вышло.\n",
    "\n",
    "- [Наш репозиторий](https://github.com/yashakb/project_dota)\n",
    "- Огромной задачей нашего проекта была задача - \"где найти данные?\".\n",
    "- Поэтому первая часть о том как откуда (*~~где брали, там уже нет~~*), и как мы брали данные.  "
   ]
  },
  {
   "cell_type": "markdown",
   "metadata": {},
   "source": [
    "### Как мы получали данные\n",
    "\n",
    "##### [data_loader](https://github.com/yashakb/project_dota/tree/master/data_loader)\n",
    "- У [steam](http://store.steampowered.com/) есть удобный API. [Ссылка](http://dev.dota2.com/showthread.php?t=58317) на полезный ресурс по API. Мы написали свою питоновскую обёртку над ним - [dota2api.py](https://github.com/yashakb/project_dota/blob/master/data_loader/dota2api.py)\n",
    "- К сожалению API стима не позволяет делать больше 100000 обращений в сутки и не позволяет выкачивать больше 500 матчей с помощью ручки GetMatchHistory. Это можно обойти если пробегать в цикле по всем возможным героеям, интересующим нас скиллам игроков и режимам игры, что мы и делаем в скрипте [info_loader.py](https://github.com/yashakb/project_dota/blob/master/data_loader/info_loader.py). Этот скрипт качает предварительную информацию о матче и складывает в очередь на [RabbitMQ](https://www.rabbitmq.com/)\n",
    "- Второй наш скрипт [match_loader.py](https://github.com/yashakb/project_dota/blob/master/data_loader/match_loader.py) берёт задание из очереди и качает матч полностью, после чего складывает в другую очередь из которой уже всё льётся на hdfs.\n",
    "- Ещё один момент - каждый скрипт (producer/consumer) требует ключа API чтобы с ним работать. Поэтому предварительно мы насобирали ключей. Итого нам понадобилось:\n",
    "    - 1 штука info_loader.py он же producer\n",
    "    - 9 штук match_loader.py он же consumer  \n",
    "\n",
    "В таком случае очередь не переполняется и всё стабильно льётся.\n",
    "\n",
    "##### [live_match_loader](https://github.com/yashakb/project_dota/tree/master/live_match_loader)\n",
    "\n",
    "Скрипт, который качает турнирные матчи в online режиме."
   ]
  },
  {
   "cell_type": "markdown",
   "metadata": {},
   "source": [
    "### Данные, которые мы выкладывали в публичный доступ\n",
    "\n",
    "1. Первая порция  \n",
    "    - [описание](http://nbviewer.jupyter.org/url/dotascience.com/data/data_description.ipynb?flush_cache=true)\n",
    "    - [данные](http://dotascience.com/data/dotahack_online_data.zip)\n",
    "2. Вторая\n",
    "    - [данные и описание](https://github.com/romovpa/dotascience-hackathon/blob/master/data.md)\n",
    "    \n",
    "Всё остальное лежит у нас в hdfs, т.к. их очень много."
   ]
  },
  {
   "cell_type": "markdown",
   "metadata": {},
   "source": [
    "### Тут мы решили что мы хотим ещё боооольше данных:\n",
    "Решили накачать реплеев (записи матчей дота 2 в особом формате). С реплеями получилось сложнее, т.к. Valve требуют соль для каждого реплея, которую трудно получить. В итоге получилось так:\n",
    "- качали вот таким скриптом [replay_loader](https://github.com/yashakb/project_dota/tree/master/replay_loader) с использованием [YASP API](https://yasp.co/) \n",
    "- для парсинга мы использовали https://github.com/skadistats/clarity. Правда пришлось переписать парсер под наши цели (Даня добавь java код в репозиторий)."
   ]
  },
  {
   "cell_type": "markdown",
   "metadata": {},
   "source": [
    "### Что мы делали с этими данными\n",
    "- С этими данными мы решили сделать несколько интересных вещей.\n",
    "    - построить модель, предсказывающую чисто по начальной стадии игры (наборам героев) победителя\n",
    "    - провести хакатон http://dotascience.com, надо же поделиться со всеми тем что у нас есть\n",
    "    - сделать рекомендательную систему, которая будет отвечать на вопрос *~~о смысле жизни~~*  \n",
    "    \"Как надо выбирать героев чтобы всех побеждать?\"\n",
    "    \n",
    "- Что получилось\n",
    "    - различные модели протестированы вот тут https://github.com/yashakb/project_dota/blob/master/notebooks/Experiments.ipynb\n",
    "    - написана статья в АИСТ, собственно в ней и описаны все эксперименты:  \n",
    "    [preprint NOT SAFE FOR PUBLISHING](aist-2016-dota-1.pdf) \n",
    "    - хакатон прошел успешно, https://habrahabr.ru/post/278785/, в качестве задачи предлагалось построить модель, которая в режиме реального времени будет предсказывать победителя\n",
    "    - пикер в процессе разработки, сделана пока что простенькая вресия, в качестве модели - логистическая регрессия.\n",
    "\n",
    "![title](picker_image.png)"
   ]
  }
 ],
 "metadata": {
  "kernelspec": {
   "display_name": "Python 2",
   "language": "python",
   "name": "python2"
  },
  "language_info": {
   "codemirror_mode": {
    "name": "ipython",
    "version": 2
   },
   "file_extension": ".py",
   "mimetype": "text/x-python",
   "name": "python",
   "nbconvert_exporter": "python",
   "pygments_lexer": "ipython2",
   "version": "2.7.10"
  }
 },
 "nbformat": 4,
 "nbformat_minor": 0
}
