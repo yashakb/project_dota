{
 "cells": [
  {
   "cell_type": "markdown",
   "metadata": {},
   "source": [
    "## Project description\n",
    "- Огромной задачей нашего проекта была задача - \"где найти данные?\".\n",
    "- Поэтому первая часть о том как откуда (*~~где брали, там уже нет~~*), и как мы брали данные.  \n"
   ]
  },
  {
   "cell_type": "markdown",
   "metadata": {},
   "source": [
    "#### Как мы получали данные\n",
    "\n",
    "\n",
    "Киря, твой выход"
   ]
  },
  {
   "cell_type": "markdown",
   "metadata": {},
   "source": [
    "#### Тут мы решили что мы хотим ещё боооольше данных:\n",
    "- И решили парсить реплеи (записи матчей дота 2 в особом формате)\n",
    "- для этого мы испльзовали https://github.com/skadistats/clarity."
   ]
  },
  {
   "cell_type": "markdown",
   "metadata": {},
   "source": [
    "#### Что мы делали с этими данными\n",
    "- С этими данными мы решили сделать несколько интересных вещей.\n",
    "    - построить модель, предсказывающую чисто по начальной стадии игры (наборам героев) победителя\n",
    "    - провести хакатон http://dotascience.com, надо же поделиться со всеми тем что у нас есть\n",
    "    - сделать рекомендательную систему, которая будет отвечать на вопрос *~~о смысле жизни~~*  \n",
    "    \"Как надо выбирать героев чтобы всех побеждать?\"\n",
    "    \n",
    "- Что получилось\n",
    "    - различные модели протестированы вот тут https://github.com/yashakb/project_dota/blob/master/notebooks/Experiments.ipynb\n",
    "    - написана статья в АИСТ, собственно в ней и описаны все эксперименты:  \n",
    "    [preprint NOT SAFE FOR PUBLISHING](aist-2016-dota-1.pdf) \n",
    "    - хакатон прошел успешно, https://habrahabr.ru/post/278785/, в качестве задачи предлагалось построить модель, которая в режиме реального времени будет предсказывать победителя\n",
    "    - пикер в процессе разработки, сделана пока что простенькая вресия, в качестве модели - логистическая регрессия.\n",
    "\n",
    "![title](picker_image.png)"
   ]
  },
  {
   "cell_type": "markdown",
   "metadata": {},
   "source": []
  },
  {
   "cell_type": "code",
   "execution_count": null,
   "metadata": {
    "collapsed": true
   },
   "outputs": [],
   "source": []
  }
 ],
 "metadata": {
  "kernelspec": {
   "display_name": "Python 2",
   "language": "python",
   "name": "python2"
  },
  "language_info": {
   "codemirror_mode": {
    "name": "ipython",
    "version": 2
   },
   "file_extension": ".py",
   "mimetype": "text/x-python",
   "name": "python",
   "nbconvert_exporter": "python",
   "pygments_lexer": "ipython2",
   "version": "2.7.3"
  }
 },
 "nbformat": 4,
 "nbformat_minor": 0
}
