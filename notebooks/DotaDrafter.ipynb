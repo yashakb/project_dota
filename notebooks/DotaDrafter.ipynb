{
 "cells": [
  {
   "cell_type": "code",
   "execution_count": 1,
   "metadata": {
    "collapsed": true
   },
   "outputs": [],
   "source": [
    "import urllib2"
   ]
  },
  {
   "cell_type": "code",
   "execution_count": 2,
   "metadata": {
    "collapsed": true
   },
   "outputs": [],
   "source": [
    "import json"
   ]
  },
  {
   "cell_type": "code",
   "execution_count": 4,
   "metadata": {
    "collapsed": false
   },
   "outputs": [],
   "source": [
    "resp = json.load(urllib2.urlopen('http://23.95.68.241/calc?r_hero_input=omniknight%2C&d_hero_input=warlock%2Cursa'))"
   ]
  },
  {
   "cell_type": "code",
   "execution_count": 11,
   "metadata": {
    "collapsed": false,
    "scrolled": false
   },
   "outputs": [
    {
     "name": "stdout",
     "output_type": "stream",
     "text": [
      "{\n",
      "  \"heroes\": {\n",
      "    \"r_next\": {\n",
      "      \"windrunner\": 0.4471895396709442, \n",
      "      \"dark_seer\": 0.421219140291214, \n",
      "      \"vengefulspirit\": 0.5003269910812378, \n",
      "      \"night_stalker\": 0.4242226481437683, \n",
      "      \"medusa\": 0.44534751772880554, \n",
      "      \"undying\": 0.47955426573753357, \n",
      "      \"riki\": 0.4860880672931671, \n",
      "      \"storm_spirit\": 0.30390095710754395, \n",
      "      \"tusk\": 0.3440561592578888, \n",
      "      \"viper\": 0.405343621969223, \n",
      "      \"puck\": 0.3154295086860657, \n",
      "      \"pugna\": 0.39402955770492554, \n",
      "      \"ogre_magi\": 0.43424975872039795, \n",
      "      \"jakiro\": 0.5182018876075745, \n",
      "      \"crystal_maiden\": 0.542138397693634, \n",
      "      \"ancient_apparition\": 0.44524165987968445, \n",
      "      \"lone_druid\": 0.3409726023674011, \n",
      "      \"shadow_demon\": 0.37415051460266113, \n",
      "      \"batrider\": 0.3248041272163391, \n",
      "      \"abaddon\": 0.4971327483654022, \n",
      "      \"kunkka\": 0.3899964392185211, \n",
      "      \"phantom_lancer\": 0.40281882882118225, \n",
      "      \"weaver\": 0.4374625086784363, \n",
      "      \"clinkz\": 0.3555527329444885, \n",
      "      \"earthshaker\": 0.4703369438648224, \n",
      "      \"lion\": 0.4181227684020996, \n",
      "      \"winter_wyvern\": 0.4053887724876404, \n",
      "      \"disruptor\": 0.4621012508869171, \n",
      "      \"phoenix\": 0.41745802760124207, \n",
      "      \"rattletrap\": 0.3786637485027313, \n",
      "      \"invoker\": 0.45725035667419434, \n",
      "      \"juggernaut\": 0.3397628962993622, \n",
      "      \"templar_assassin\": 0.3521011769771576, \n",
      "      \"lycan\": 0.44093117117881775, \n",
      "      \"meepo\": 0.3415391147136688, \n",
      "      \"elder_titan\": 0.4625268876552582, \n",
      "      \"centaur\": 0.46078991889953613, \n",
      "      \"tinker\": 0.34034809470176697, \n",
      "      \"broodmother\": 0.36034566164016724, \n",
      "      \"dragon_knight\": 0.42975202202796936, \n",
      "      \"obsidian_destroyer\": 0.517208456993103, \n",
      "      \"huskar\": 0.30663958191871643, \n",
      "      \"techies\": 0.3939627707004547, \n",
      "      \"witch_doctor\": 0.45983821153640747, \n",
      "      \"terrorblade\": 0.3854120671749115, \n",
      "      \"alchemist\": 0.37794384360313416, \n",
      "      \"life_stealer\": 0.3309001922607422, \n",
      "      \"slark\": 0.46790236234664917, \n",
      "      \"mirana\": 0.49681124091148376, \n",
      "      \"skeleton_king\": 0.4466492235660553, \n",
      "      \"doom_bringer\": 0.32514113187789917, \n",
      "      \"arc_warden\": 0.3473690152168274, \n",
      "      \"morphling\": 0.37341293692588806, \n",
      "      \"luna\": 0.4205411970615387, \n",
      "      \"queenofpain\": 0.3036835491657257, \n",
      "      \"razor\": 0.34710803627967834, \n",
      "      \"drow_ranger\": 0.4737362563610077, \n",
      "      \"necrolyte\": 0.4703539311885834, \n",
      "      \"skywrath_mage\": 0.3671824336051941, \n",
      "      \"tiny\": 0.3803824484348297, \n",
      "      \"pudge\": 0.40301212668418884, \n",
      "      \"spirit_breaker\": 0.44102901220321655, \n",
      "      \"phantom_assassin\": 0.4027084410190582, \n",
      "      \"nyx_assassin\": 0.4001351296901703, \n",
      "      \"gyrocopter\": 0.4084698259830475, \n",
      "      \"silencer\": 0.41776734590530396, \n",
      "      \"enigma\": 0.44789040088653564, \n",
      "      \"bounty_hunter\": 0.4024989604949951, \n",
      "      \"lina\": 0.41639959812164307, \n",
      "      \"antimage\": 0.34803783893585205, \n",
      "      \"sand_king\": 0.48294249176979065, \n",
      "      \"brewmaster\": 0.3999932110309601, \n",
      "      \"wisp\": 0.27857258915901184, \n",
      "      \"nevermore\": 0.372686505317688, \n",
      "      \"sniper\": 0.4253140091896057, \n",
      "      \"faceless_void\": 0.361314058303833, \n",
      "      \"bristleback\": 0.43279775977134705, \n",
      "      \"lich\": 0.47063490748405457, \n",
      "      \"visage\": 0.33353179693222046, \n",
      "      \"keeper_of_the_light\": 0.4269406795501709, \n",
      "      \"legion_commander\": 0.38335612416267395, \n",
      "      \"slardar\": 0.4968709945678711, \n",
      "      \"treant\": 0.41454702615737915, \n",
      "      \"death_prophet\": 0.41653263568878174, \n",
      "      \"chen\": 0.38562139868736267, \n",
      "      \"tidehunter\": 0.46564191579818726, \n",
      "      \"earth_spirit\": 0.40924322605133057, \n",
      "      \"furion\": 0.3506496846675873, \n",
      "      \"rubick\": 0.38301387429237366, \n",
      "      \"enchantress\": 0.3290621340274811, \n",
      "      \"dazzle\": 0.4693719446659088, \n",
      "      \"troll_warlord\": 0.3906141221523285, \n",
      "      \"chaos_knight\": 0.47504445910453796, \n",
      "      \"shadow_shaman\": 0.48726391792297363, \n",
      "      \"venomancer\": 0.45844539999961853, \n",
      "      \"leshrac\": 0.3360898792743683, \n",
      "      \"beastmaster\": 0.42779895663261414, \n",
      "      \"bloodseeker\": 0.3841150999069214, \n",
      "      \"sven\": 0.48000967502593994, \n",
      "      \"zuus\": 0.48495742678642273, \n",
      "      \"shredder\": 0.37559565901756287, \n",
      "      \"bane\": 0.35848307609558105, \n",
      "      \"ember_spirit\": 0.3352747857570648, \n",
      "      \"naga_siren\": 0.32453790307044983, \n",
      "      \"spectre\": 0.4660210907459259, \n",
      "      \"axe\": 0.35097020864486694, \n",
      "      \"oracle\": 0.3373504877090454, \n",
      "      \"magnataur\": 0.38034939765930176\n",
      "    }, \n",
      "    \"d_next\": {\n",
      "      \"windrunner\": 0.6004879474639893, \n",
      "      \"dark_seer\": 0.6127310395240784, \n",
      "      \"vengefulspirit\": 0.6399405598640442, \n",
      "      \"night_stalker\": 0.5731564164161682, \n",
      "      \"medusa\": 0.6800622940063477, \n",
      "      \"undying\": 0.6314126253128052, \n",
      "      \"riki\": 0.5982463359832764, \n",
      "      \"storm_spirit\": 0.4878348708152771, \n",
      "      \"tusk\": 0.5033627152442932, \n",
      "      \"viper\": 0.5264894962310791, \n",
      "      \"puck\": 0.5037110447883606, \n",
      "      \"pugna\": 0.5302244424819946, \n",
      "      \"ogre_magi\": 0.610027551651001, \n",
      "      \"jakiro\": 0.6378666758537292, \n",
      "      \"crystal_maiden\": 0.7032005190849304, \n",
      "      \"ancient_apparition\": 0.5862801671028137, \n",
      "      \"lone_druid\": 0.5401832461357117, \n",
      "      \"shadow_demon\": 0.5349759459495544, \n",
      "      \"batrider\": 0.4828115403652191, \n",
      "      \"abaddon\": 0.6817709803581238, \n",
      "      \"kunkka\": 0.548058271408081, \n",
      "      \"phantom_lancer\": 0.5764004588127136, \n",
      "      \"weaver\": 0.636643648147583, \n",
      "      \"clinkz\": 0.5507861971855164, \n",
      "      \"earthshaker\": 0.5980386734008789, \n",
      "      \"lion\": 0.5616045594215393, \n",
      "      \"winter_wyvern\": 0.5448916554450989, \n",
      "      \"disruptor\": 0.6146230697631836, \n",
      "      \"phoenix\": 0.591606855392456, \n",
      "      \"rattletrap\": 0.5292118787765503, \n",
      "      \"invoker\": 0.6426520347595215, \n",
      "      \"juggernaut\": 0.5283876061439514, \n",
      "      \"templar_assassin\": 0.5026472210884094, \n",
      "      \"lycan\": 0.5431311726570129, \n",
      "      \"meepo\": 0.4707353711128235, \n",
      "      \"elder_titan\": 0.6249783635139465, \n",
      "      \"centaur\": 0.5707184672355652, \n",
      "      \"tinker\": 0.5283465385437012, \n",
      "      \"broodmother\": 0.46027445793151855, \n",
      "      \"dragon_knight\": 0.5950510501861572, \n",
      "      \"obsidian_destroyer\": 0.6352837681770325, \n",
      "      \"huskar\": 0.46817439794540405, \n",
      "      \"techies\": 0.5226322412490845, \n",
      "      \"witch_doctor\": 0.6467135548591614, \n",
      "      \"terrorblade\": 0.5672614574432373, \n",
      "      \"alchemist\": 0.5663054585456848, \n",
      "      \"life_stealer\": 0.5052448511123657, \n",
      "      \"slark\": 0.5433303713798523, \n",
      "      \"mirana\": 0.6242381930351257, \n",
      "      \"skeleton_king\": 0.635413408279419, \n",
      "      \"doom_bringer\": 0.5230943560600281, \n",
      "      \"arc_warden\": 0.49546870589256287, \n",
      "      \"morphling\": 0.513464629650116, \n",
      "      \"luna\": 0.6186985969543457, \n",
      "      \"queenofpain\": 0.5010711550712585, \n",
      "      \"razor\": 0.5329089760780334, \n",
      "      \"drow_ranger\": 0.5865896344184875, \n",
      "      \"necrolyte\": 0.6885949969291687, \n",
      "      \"skywrath_mage\": 0.511394739151001, \n",
      "      \"tiny\": 0.5257161259651184, \n",
      "      \"pudge\": 0.5741070508956909, \n",
      "      \"spirit_breaker\": 0.5487561225891113, \n",
      "      \"phantom_assassin\": 0.4954577386379242, \n",
      "      \"nyx_assassin\": 0.5212130546569824, \n",
      "      \"gyrocopter\": 0.5477699637413025, \n",
      "      \"silencer\": 0.636303186416626, \n",
      "      \"enigma\": 0.6303580403327942, \n",
      "      \"bounty_hunter\": 0.5414561629295349, \n",
      "      \"lina\": 0.5319823026657104, \n",
      "      \"antimage\": 0.5001660585403442, \n",
      "      \"sand_king\": 0.6201274394989014, \n",
      "      \"brewmaster\": 0.5350301265716553, \n",
      "      \"wisp\": 0.5130865573883057, \n",
      "      \"nevermore\": 0.5387882590293884, \n",
      "      \"sniper\": 0.5235105156898499, \n",
      "      \"faceless_void\": 0.5489159226417542, \n",
      "      \"bristleback\": 0.5646573901176453, \n",
      "      \"lich\": 0.6183404326438904, \n",
      "      \"visage\": 0.5115605592727661, \n",
      "      \"keeper_of_the_light\": 0.6021289825439453, \n",
      "      \"legion_commander\": 0.5294233560562134, \n",
      "      \"slardar\": 0.5890280604362488, \n",
      "      \"treant\": 0.6357007622718811, \n",
      "      \"death_prophet\": 0.568614661693573, \n",
      "      \"chen\": 0.5349068641662598, \n",
      "      \"tidehunter\": 0.58856201171875, \n",
      "      \"earth_spirit\": 0.5747522115707397, \n",
      "      \"furion\": 0.5440764427185059, \n",
      "      \"rubick\": 0.5427504777908325, \n",
      "      \"enchantress\": 0.5532944798469543, \n",
      "      \"dazzle\": 0.6428882479667664, \n",
      "      \"troll_warlord\": 0.5318434834480286, \n",
      "      \"chaos_knight\": 0.5970475673675537, \n",
      "      \"shadow_shaman\": 0.6416860818862915, \n",
      "      \"venomancer\": 0.613433837890625, \n",
      "      \"leshrac\": 0.5344067811965942, \n",
      "      \"beastmaster\": 0.5912397503852844, \n",
      "      \"bloodseeker\": 0.49758100509643555, \n",
      "      \"sven\": 0.6117436289787292, \n",
      "      \"zuus\": 0.6335472464561462, \n",
      "      \"shredder\": 0.5636961460113525, \n",
      "      \"bane\": 0.5459705591201782, \n",
      "      \"ember_spirit\": 0.5187460780143738, \n",
      "      \"naga_siren\": 0.5050333142280579, \n",
      "      \"spectre\": 0.6342998147010803, \n",
      "      \"axe\": 0.5227605700492859, \n",
      "      \"oracle\": 0.51045161485672, \n",
      "      \"magnataur\": 0.5102836489677429\n",
      "    }, \n",
      "    \"r\": [\n",
      "      \"omniknight\"\n",
      "    ], \n",
      "    \"d\": [\n",
      "      \"warlock\", \n",
      "      \"ursa\"\n",
      "    ]\n",
      "  }, \n",
      "  \"prediction\": [\n",
      "    0.4106510877609253, \n",
      "    0.5893489122390747\n",
      "  ]\n",
      "}\n"
     ]
    }
   ],
   "source": [
    "print json.dumps(resp, indent=2)"
   ]
  },
  {
   "cell_type": "code",
   "execution_count": 6,
   "metadata": {
    "collapsed": false,
    "scrolled": false
   },
   "outputs": [
    {
     "data": {
      "text/plain": [
       "[u'heroes', u'prediction']"
      ]
     },
     "execution_count": 6,
     "metadata": {},
     "output_type": "execute_result"
    }
   ],
   "source": [
    "resp.keys()"
   ]
  },
  {
   "cell_type": "code",
   "execution_count": 10,
   "metadata": {
    "collapsed": false
   },
   "outputs": [
    {
     "data": {
      "text/plain": [
       "[0.4106510877609253, 0.5893489122390747]"
      ]
     },
     "execution_count": 10,
     "metadata": {},
     "output_type": "execute_result"
    }
   ],
   "source": [
    "resp['prediction']"
   ]
  },
  {
   "cell_type": "code",
   "execution_count": null,
   "metadata": {
    "collapsed": true
   },
   "outputs": [],
   "source": []
  }
 ],
 "metadata": {
  "kernelspec": {
   "display_name": "Python 2",
   "language": "python",
   "name": "python2"
  },
  "language_info": {
   "codemirror_mode": {
    "name": "ipython",
    "version": 2
   },
   "file_extension": ".py",
   "mimetype": "text/x-python",
   "name": "python",
   "nbconvert_exporter": "python",
   "pygments_lexer": "ipython2",
   "version": "2.7.8"
  }
 },
 "nbformat": 4,
 "nbformat_minor": 0
}
