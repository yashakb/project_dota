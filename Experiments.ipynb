{
 "cells": [
  {
   "cell_type": "code",
   "execution_count": 33,
   "metadata": {
    "collapsed": true
   },
   "outputs": [],
   "source": [
    "import pandas as pd\n",
    "import numpy as np\n",
    "\n",
    "import sys\n",
    "sys.path.append('/home/yashakb/vowpal_wabbit/python/')\n",
    "\n",
    "import pyvw"
   ]
  },
  {
   "cell_type": "code",
   "execution_count": 34,
   "metadata": {
    "collapsed": false
   },
   "outputs": [],
   "source": [
    "matches = pd.read_csv('matches.csv.bz2', compression = 'bz2')"
   ]
  },
  {
   "cell_type": "code",
   "execution_count": 35,
   "metadata": {
    "collapsed": false
   },
   "outputs": [],
   "source": [
    "matches = matches.drop_duplicates()"
   ]
  },
  {
   "cell_type": "code",
   "execution_count": 37,
   "metadata": {
    "collapsed": false
   },
   "outputs": [],
   "source": [
    "normal_skill = matches[matches['skill'] == 1]"
   ]
  },
  {
   "cell_type": "code",
   "execution_count": 38,
   "metadata": {
    "collapsed": true
   },
   "outputs": [],
   "source": [
    "high_skill = matches[matches['skill'] == 2]\n",
    "very_high_skill = matches[matches['skill'] == 3]"
   ]
  },
  {
   "cell_type": "code",
   "execution_count": 6,
   "metadata": {
    "collapsed": true
   },
   "outputs": [],
   "source": [
    "del matches"
   ]
  },
  {
   "cell_type": "code",
   "execution_count": 40,
   "metadata": {
    "collapsed": false
   },
   "outputs": [
    {
     "name": "stdout",
     "output_type": "stream",
     "text": [
      "3056596 938160 1077102\n"
     ]
    }
   ],
   "source": [
    "print len(normal_skill), len(high_skill), len(very_high_skill)"
   ]
  },
  {
   "cell_type": "code",
   "execution_count": 54,
   "metadata": {
    "collapsed": false
   },
   "outputs": [],
   "source": [
    "match_by_skill = [[sum(normal_skill['game_mode'] == 2), sum(normal_skill['game_mode'] == 3), sum(normal_skill['game_mode'] == 22)],\n",
    "[sum(high_skill['game_mode'] == 2), sum(high_skill['game_mode'] == 3), sum(high_skill['game_mode'] == 22)],\n",
    "[sum(very_high_skill['game_mode'] == 2), sum(very_high_skill['game_mode'] == 3), \n",
    " sum(very_high_skill['game_mode'] == 22)]]"
   ]
  },
  {
   "cell_type": "code",
   "execution_count": 59,
   "metadata": {
    "collapsed": false
   },
   "outputs": [
    {
     "name": "stdout",
     "output_type": "stream",
     "text": [
      "\\begin{tabular}{lrrr}\n",
      "\\toprule\n",
      "{} &  Captains mode &  Random Draft &  Ranked All Pick \\\\\n",
      "\\midrule\n",
      "Normal skill    &          33037 &         86472 &          2937087 \\\\\n",
      "High skill      &           5599 &         15560 &           917001 \\\\\n",
      "Very high skill &           8840 &         39407 &          1028855 \\\\\n",
      "\\bottomrule\n",
      "\\end{tabular}\n",
      "\n"
     ]
    }
   ],
   "source": [
    "d = pd.DataFrame(match_by_skill, columns = ['Captains mode', 'Random Draft', 'Ranked All Pick'], \n",
    "             index = ['Normal skill', 'High skill', 'Very high skill'])\n",
    "print d.to_latex()"
   ]
  },
  {
   "cell_type": "code",
   "execution_count": 51,
   "metadata": {
    "collapsed": false
   },
   "outputs": [
    {
     "data": {
      "text/plain": [
       "1456927630"
      ]
     },
     "execution_count": 51,
     "metadata": {},
     "output_type": "execute_result"
    }
   ],
   "source": [
    "matches['start_time'].max()"
   ]
  },
  {
   "cell_type": "markdown",
   "metadata": {},
   "source": [
    "### Calculate roc_auc for every skill"
   ]
  },
  {
   "cell_type": "code",
   "execution_count": 7,
   "metadata": {
    "collapsed": true
   },
   "outputs": [],
   "source": [
    "from sklearn.ensemble import RandomForestClassifier, GradientBoostingClassifier \n",
    "from sklearn.cross_validation import cross_val_score, ShuffleSplit\n",
    "from sklearn.linear_model import LogisticRegression\n",
    "from sklearn.feature_extraction.text import CountVectorizer"
   ]
  },
  {
   "cell_type": "code",
   "execution_count": 8,
   "metadata": {
    "collapsed": false
   },
   "outputs": [],
   "source": [
    "rad_heroes = ['r1_hero_id', 'r2_hero_id', 'r3_hero_id', 'r4_hero_id', 'r5_hero_id']\n",
    "dire_heroes = ['d1_hero_id', 'd2_hero_id', 'd3_hero_id', 'd4_hero_id', 'd5_hero_id']"
   ]
  },
  {
   "cell_type": "markdown",
   "metadata": {},
   "source": [
    "#### Very high skill"
   ]
  },
  {
   "cell_type": "code",
   "execution_count": 9,
   "metadata": {
    "collapsed": false
   },
   "outputs": [],
   "source": [
    "X_very_high = np.zeros([very_high_skill.shape[0], 226])\n",
    "X_very_high[np.tile(np.arange(very_high_skill.shape[0]),[5,1]).T.ravel(),\n",
    "            very_high_skill[rad_heroes].as_matrix().ravel() - 1] = 1.0\n",
    "X_very_high[np.tile(np.arange(very_high_skill.shape[0]),[5,1]).T.ravel(),\n",
    "            very_high_skill[dire_heroes].as_matrix().ravel() + 112] = 1.0\n",
    "\n",
    "y_very_high = very_high_skill['radiant_win'].as_matrix()\n",
    "\n",
    "cv = ShuffleSplit(n=X_very_high.shape[0], n_iter=5, random_state=123, test_size=0.15)"
   ]
  },
  {
   "cell_type": "code",
   "execution_count": 63,
   "metadata": {
    "collapsed": false
   },
   "outputs": [
    {
     "name": "stdout",
     "output_type": "stream",
     "text": [
      "f1 0.634489496269\n",
      "accuracy 0.604111594326\n",
      "precision 0.609857330728\n",
      "recall 0.661200567965\n",
      "CPU times: user 3min 11s, sys: 14.7 s, total: 3min 26s\n",
      "Wall time: 3min 26s\n"
     ]
    }
   ],
   "source": [
    "%%time\n",
    "\n",
    "import sys\n",
    "\n",
    "#for sc in ('roc_auc', 'log_loss', 'precision', 'recall', 'f1', 'accuracy'):\n",
    "for sc in ('f1', 'accuracy', 'precision', 'recall'):\n",
    "    score = cross_val_score(\n",
    "        LogisticRegression(),\n",
    "        X_very_high, y_very_high,\n",
    "        cv=cv,\n",
    "        scoring=sc\n",
    "    )\n",
    "    print sc, score.mean()\n",
    "    sys.stdout.flush()"
   ]
  },
  {
   "cell_type": "markdown",
   "metadata": {},
   "source": [
    "#### high skill"
   ]
  },
  {
   "cell_type": "code",
   "execution_count": 10,
   "metadata": {
    "collapsed": false
   },
   "outputs": [],
   "source": [
    "X_high = np.zeros([high_skill.shape[0], 226])\n",
    "X_high[np.tile(np.arange(high_skill.shape[0]),[5,1]).T.ravel(),\n",
    "       high_skill[rad_heroes].as_matrix().ravel() - 1] = 1.0\n",
    "X_high[np.tile(np.arange(high_skill.shape[0]),[5,1]).T.ravel(), \n",
    "       high_skill[dire_heroes].as_matrix().ravel() + 112] = 1.0\n",
    "\n",
    "y_high = high_skill['radiant_win'].as_matrix()\n",
    "\n",
    "cv = ShuffleSplit(n=X_high.shape[0], n_iter=5, random_state=123, test_size=0.15)"
   ]
  },
  {
   "cell_type": "code",
   "execution_count": 14,
   "metadata": {
    "collapsed": false
   },
   "outputs": [
    {
     "name": "stdout",
     "output_type": "stream",
     "text": [
      "roc_auc 0.655875129494\n",
      "log_loss -0.653673367996\n",
      "CPU times: user 1min 32s, sys: 8.46 s, total: 1min 40s\n",
      "Wall time: 1min 40s\n"
     ]
    }
   ],
   "source": [
    "%%time\n",
    "\n",
    "for sc in ('roc_auc', 'log_loss'):\n",
    "    score = cross_val_score(\n",
    "        LogisticRegression(),\n",
    "        X_high, y_high,\n",
    "        cv=cv,\n",
    "        scoring=sc\n",
    "    )\n",
    "    print sc, score.mean()"
   ]
  },
  {
   "cell_type": "markdown",
   "metadata": {},
   "source": [
    "#### normal skill"
   ]
  },
  {
   "cell_type": "code",
   "execution_count": 11,
   "metadata": {
    "collapsed": true
   },
   "outputs": [],
   "source": [
    "X_normal = np.zeros([normal_skill.shape[0], 226])\n",
    "X_normal[np.tile(np.arange(normal_skill.shape[0]),[5,1]).T.ravel(),\n",
    "            normal_skill[rad_heroes].as_matrix().ravel() - 1] = 1.0\n",
    "X_normal[np.tile(np.arange(normal_skill.shape[0]),[5,1]).T.ravel(),\n",
    "            normal_skill[dire_heroes].as_matrix().ravel() + 112] = 1.0\n",
    "\n",
    "y_normal = normal_skill['radiant_win'].as_matrix()\n",
    "\n",
    "cv = ShuffleSplit(n=X_normal.shape[0], n_iter=5, random_state=123, test_size=0.15)"
   ]
  },
  {
   "cell_type": "code",
   "execution_count": 16,
   "metadata": {
    "collapsed": false
   },
   "outputs": [
    {
     "name": "stdout",
     "output_type": "stream",
     "text": [
      "roc_auc 0.687530749799\n",
      "log_loss -0.634561856949\n",
      "CPU times: user 6min 6s, sys: 26.3 s, total: 6min 32s\n",
      "Wall time: 6min 32s\n"
     ]
    }
   ],
   "source": [
    "%%time\n",
    "\n",
    "for sc in ('roc_auc', 'log_loss'):\n",
    "    score = cross_val_score(\n",
    "        LogisticRegression(),\n",
    "        X_normal, y_normal,\n",
    "        cv=cv,\n",
    "        scoring=sc\n",
    "    )\n",
    "    print sc, score.mean()"
   ]
  },
  {
   "cell_type": "markdown",
   "metadata": {},
   "source": [
    "### Try to add duration in features"
   ]
  },
  {
   "cell_type": "code",
   "execution_count": 16,
   "metadata": {
    "collapsed": false
   },
   "outputs": [],
   "source": [
    "X_high = np.zeros([high_skill.shape[0], 227])\n",
    "X_high[np.tile(np.arange(high_skill.shape[0]),[5,1]).T.ravel(),\n",
    "       high_skill[rad_heroes].as_matrix().ravel() - 1] = 1.0\n",
    "X_high[np.tile(np.arange(high_skill.shape[0]),[5,1]).T.ravel(), \n",
    "       high_skill[dire_heroes].as_matrix().ravel() + 112] = 1.0\n",
    "\n",
    "X_high[:,-1] = high_skill['duration'].as_matrix()\n",
    "y_high = high_skill['radiant_win'].as_matrix()\n",
    "\n",
    "cv = ShuffleSplit(n=X_high.shape[0], n_iter=5, random_state=123, test_size=0.15)"
   ]
  },
  {
   "cell_type": "code",
   "execution_count": 9,
   "metadata": {
    "collapsed": false
   },
   "outputs": [
    {
     "name": "stdout",
     "output_type": "stream",
     "text": [
      "roc_auc 0.663772195798\n",
      "log_loss -0.65011135077\n",
      "CPU times: user 1min 31s, sys: 6.77 s, total: 1min 38s\n",
      "Wall time: 1min 38s\n"
     ]
    }
   ],
   "source": [
    "%%time\n",
    "\n",
    "for sc in ('roc_auc', 'log_loss'):\n",
    "    score = cross_val_score(\n",
    "        LogisticRegression(),\n",
    "        X_high, y_high,\n",
    "        cv=cv,\n",
    "        scoring=sc\n",
    "    )\n",
    "    print sc, score.mean()"
   ]
  },
  {
   "cell_type": "markdown",
   "metadata": {},
   "source": [
    "# Experiments only with high skill below"
   ]
  },
  {
   "cell_type": "markdown",
   "metadata": {},
   "source": [
    "### dummy"
   ]
  },
  {
   "cell_type": "code",
   "execution_count": null,
   "metadata": {
    "collapsed": false
   },
   "outputs": [
    {
     "name": "stdout",
     "output_type": "stream",
     "text": [
      "roc_auc 0.5\n",
      "log_loss -0.692216492919\n",
      "accuracy "
     ]
    }
   ],
   "source": [
    "from sklearn.dummy import DummyClassifier\n",
    "\n",
    "cv = ShuffleSplit(n=X_high.shape[0], n_iter=5, random_state=123, test_size=0.15)\n",
    "\n",
    "for sc in ('roc_auc', 'log_loss', 'accuracy', 'precision', 'recall'):\n",
    "    print sc, cross_val_score(\n",
    "        DummyClassifier('prior'),\n",
    "        X_high[:,:-1], y_high,\n",
    "        cv=cv,\n",
    "        scoring=sc\n",
    "    ).mean()"
   ]
  },
  {
   "cell_type": "markdown",
   "metadata": {},
   "source": [
    "### try xgboost on picks with duration"
   ]
  },
  {
   "cell_type": "code",
   "execution_count": 14,
   "metadata": {
    "collapsed": false
   },
   "outputs": [],
   "source": [
    "import xgboost as xgb\n",
    "ind = np.argsort(np.random.rand(len(X_high)))\n",
    "tr_ind = ind[:len(ind) * 85 / 100]\n",
    "test_ind = ind[len(ind) * 85 / 100:]"
   ]
  },
  {
   "cell_type": "code",
   "execution_count": 17,
   "metadata": {
    "collapsed": false
   },
   "outputs": [
    {
     "name": "stderr",
     "output_type": "stream",
     "text": [
      "[0]\teval-auc:0.612757\teval-logloss:0.678591\ttrain-auc:0.615566\ttrain-logloss:0.678764\n",
      "[10]\teval-auc:0.657514\teval-logloss:0.653731\ttrain-auc:0.663525\ttrain-logloss:0.651484\n",
      "[20]\teval-auc:0.670357\teval-logloss:0.646547\ttrain-auc:0.678772\ttrain-logloss:0.642931\n",
      "[30]\teval-auc:0.677924\teval-logloss:0.641567\ttrain-auc:0.689099\ttrain-logloss:0.636418\n",
      "[40]\teval-auc:0.682345\teval-logloss:0.638453\ttrain-auc:0.695648\ttrain-logloss:0.631895\n",
      "[50]\teval-auc:0.685361\teval-logloss:0.636250\ttrain-auc:0.700582\ttrain-logloss:0.628428\n",
      "[60]\teval-auc:0.687641\teval-logloss:0.634553\ttrain-auc:0.704721\ttrain-logloss:0.625352\n",
      "[70]\teval-auc:0.689402\teval-logloss:0.633312\ttrain-auc:0.708325\ttrain-logloss:0.622803\n",
      "[80]\teval-auc:0.690720\teval-logloss:0.632134\ttrain-auc:0.711475\ttrain-logloss:0.620259\n",
      "[90]\teval-auc:0.691908\teval-logloss:0.631306\ttrain-auc:0.714452\ttrain-logloss:0.618015\n",
      "[100]\teval-auc:0.693241\teval-logloss:0.630258\ttrain-auc:0.717442\ttrain-logloss:0.615687\n",
      "[110]\teval-auc:0.694054\teval-logloss:0.629613\ttrain-auc:0.719879\ttrain-logloss:0.613913\n",
      "[120]\teval-auc:0.695238\teval-logloss:0.628733\ttrain-auc:0.722982\ttrain-logloss:0.611603\n",
      "[130]\teval-auc:0.695846\teval-logloss:0.628315\ttrain-auc:0.725210\ttrain-logloss:0.609877\n",
      "[140]\teval-auc:0.696682\teval-logloss:0.627739\ttrain-auc:0.727615\ttrain-logloss:0.608152\n",
      "[150]\teval-auc:0.697441\teval-logloss:0.627182\ttrain-auc:0.729639\ttrain-logloss:0.606588\n",
      "[160]\teval-auc:0.698095\teval-logloss:0.626747\ttrain-auc:0.731605\ttrain-logloss:0.605105\n",
      "[170]\teval-auc:0.698684\teval-logloss:0.626292\ttrain-auc:0.733698\ttrain-logloss:0.603499\n",
      "[180]\teval-auc:0.699175\teval-logloss:0.625959\ttrain-auc:0.735536\ttrain-logloss:0.602135\n",
      "[190]\teval-auc:0.699542\teval-logloss:0.625717\ttrain-auc:0.737372\ttrain-logloss:0.600752\n",
      "[199]\teval-auc:0.699667\teval-logloss:0.625596\ttrain-auc:0.739015\ttrain-logloss:0.599528\n"
     ]
    }
   ],
   "source": [
    "dtrain = xgb.DMatrix(X_high[tr_ind, :], label = y_high[tr_ind])\n",
    "dtest = xgb.DMatrix(X_high[test_ind, :], label = y_high[test_ind])\n",
    "param = {'bst:max_depth':6, 'bst:eta':0.4, 'silent':1, 'objective':'binary:logistic' }\n",
    "param['nthread'] = 4\n",
    "param['eval_metric'] = ['auc', 'logloss']\n",
    "evallist  = [(dtest,'eval'), (dtrain,'train')]\n",
    "num_round = 200\n",
    "bst = xgb.train( param, dtrain, num_round, evallist, verbose_eval = 10 )"
   ]
  },
  {
   "cell_type": "code",
   "execution_count": 38,
   "metadata": {
    "collapsed": false
   },
   "outputs": [
    {
     "name": "stdout",
     "output_type": "stream",
     "text": [
      "Populating the interactive namespace from numpy and matplotlib\n"
     ]
    }
   ],
   "source": [
    "%pylab inline\n",
    "import matplotlib.pyplot as plt"
   ]
  },
  {
   "cell_type": "code",
   "execution_count": 41,
   "metadata": {
    "collapsed": false
   },
   "outputs": [
    {
     "data": {
      "text/plain": [
       "<matplotlib.text.Text at 0x81c48650>"
      ]
     },
     "execution_count": 41,
     "metadata": {},
     "output_type": "execute_result"
    },
    {
     "data": {
      "image/png": "[encoded data removed]",
      "text/plain": [
       "<matplotlib.figure.Figure at 0x8c771f90>"
      ]
     },
     "metadata": {},
     "output_type": "display_data"
    }
   ],
   "source": [
    "figsize(8,8)\n",
    "try_match = np.copy(X_high[test_ind[1] ,:])\n",
    "try_match = np.tile(try_match, [3000,1])\n",
    "x_ = np.arange(1000,4000)\n",
    "try_match[:,-1] = x_\n",
    "y_ = bst.predict(xgb.DMatrix(try_match))\n",
    "plt.plot(x_, y_)\n",
    "plt.title('Win probability plot for different durations')\n",
    "plt.xlabel('duration in sec')\n",
    "plt.ylabel('probabitily of radiant to win')"
   ]
  },
  {
   "cell_type": "markdown",
   "metadata": {},
   "source": [
    "### CV on xgboost without duration"
   ]
  },
  {
   "cell_type": "code",
   "execution_count": 17,
   "metadata": {
    "collapsed": false
   },
   "outputs": [],
   "source": [
    "dtrain = xgb.DMatrix(X_high[:, :-1], label = y_high)\n",
    "param = {'bst:max_depth':5, 'bst:eta':0.4, 'silent':1, 'objective':'binary:logistic' }\n",
    "param['nthread'] = 4\n",
    "param['eval_metric'] = 'logloss'\n",
    "num_round = 200\n",
    "bst = xgb.cv(param, dtrain, num_round, nfold=5, as_pandas = True, seed = 0)"
   ]
  },
  {
   "cell_type": "code",
   "execution_count": 18,
   "metadata": {
    "collapsed": false
   },
   "outputs": [
    {
     "name": "stdout",
     "output_type": "stream",
     "text": [
      "     test-logloss-mean  test-logloss-std  train-logloss-mean  \\\n",
      "0             0.684722          0.000188            0.684761   \n",
      "10            0.668158          0.000238            0.667148   \n",
      "20            0.662425          0.000302            0.660551   \n",
      "30            0.659086          0.000311            0.656346   \n",
      "40            0.656694          0.000324            0.653188   \n",
      "50            0.655121          0.000286            0.650776   \n",
      "60            0.653975          0.000321            0.648856   \n",
      "70            0.653119          0.000343            0.647250   \n",
      "80            0.652371          0.000370            0.645876   \n",
      "90            0.651901          0.000397            0.644653   \n",
      "100           0.651466          0.000461            0.643545   \n",
      "110           0.651054          0.000366            0.642449   \n",
      "120           0.650792          0.000415            0.641513   \n",
      "130           0.650569          0.000447            0.640618   \n",
      "140           0.650309          0.000479            0.639732   \n",
      "150           0.650130          0.000440            0.638907   \n",
      "160           0.649981          0.000427            0.638135   \n",
      "170           0.649787          0.000506            0.637328   \n",
      "180           0.649714          0.000508            0.636607   \n",
      "190           0.649604          0.000521            0.635897   \n",
      "\n",
      "     train-logloss-std  \n",
      "0             0.000452  \n",
      "10            0.000118  \n",
      "20            0.000064  \n",
      "30            0.000043  \n",
      "40            0.000092  \n",
      "50            0.000146  \n",
      "60            0.000149  \n",
      "70            0.000175  \n",
      "80            0.000127  \n",
      "90            0.000127  \n",
      "100           0.000117  \n",
      "110           0.000191  \n",
      "120           0.000191  \n",
      "130           0.000177  \n",
      "140           0.000193  \n",
      "150           0.000212  \n",
      "160           0.000190  \n",
      "170           0.000153  \n",
      "180           0.000170  \n",
      "190           0.000139  \n"
     ]
    }
   ],
   "source": [
    "print bst.iloc[::10, :]"
   ]
  },
  {
   "cell_type": "markdown",
   "metadata": {},
   "source": [
    "### Create table of results"
   ]
  },
  {
   "cell_type": "code",
   "execution_count": 3,
   "metadata": {
    "collapsed": true
   },
   "outputs": [],
   "source": [
    "import pickle"
   ]
  },
  {
   "cell_type": "markdown",
   "metadata": {},
   "source": [
    "#### Make shuffle split and save it"
   ]
  },
  {
   "cell_type": "code",
   "execution_count": 63,
   "metadata": {
    "collapsed": false
   },
   "outputs": [],
   "source": [
    "cv = ShuffleSplit(n=X_very_high.shape[0], n_iter=5, random_state=123, test_size=0.2)\n",
    "with open('CV_very_high.pkl', 'w+') as f:\n",
    "    pickle.dump(cv, f)\n",
    "    \n",
    "cv = ShuffleSplit(n=X_high.shape[0], n_iter=5, random_state=123, test_size=0.2)\n",
    "with open('CV_high.pkl', 'w+') as f:\n",
    "    pickle.dump(cv, f)\n",
    "    \n",
    "cv = ShuffleSplit(n=X_normal.shape[0], n_iter=5, random_state=123, test_size=0.2)\n",
    "with open('CV_normal.pkl', 'w+') as f:\n",
    "    pickle.dump(cv, f)"
   ]
  },
  {
   "cell_type": "code",
   "execution_count": 14,
   "metadata": {
    "collapsed": false
   },
   "outputs": [],
   "source": [
    "def get_preds_lr(X_tr, y_tr, X_test):\n",
    "    lr = LogisticRegression()\n",
    "    lr.fit(X_tr, y_tr)\n",
    "    return lr.predict_proba(X_test)[:,1]\n",
    "\n",
    "def get_preds_xgboost(X_tr, y_tr, X_test):\n",
    "    dtrain = xgb.DMatrix(X_tr, label = y_tr)\n",
    "    param = {'bst:max_depth':5, 'bst:eta':0.4, 'silent':1, 'objective':'binary:logistic' }\n",
    "    param['nthread'] = 4\n",
    "    param['eval_metric'] = ['auc', 'logloss']\n",
    "#     evallist  = [(dtest,'eval'), (dtrain,'train')]\n",
    "    num_round = 300\n",
    "    bst = xgb.train( param, dtrain, num_round, verbose_eval = 100 )\n",
    "    return bst.predict(xgb.DMatrix(X_test))\n",
    "\n",
    "def get_preds_dummy(X_tr, y_tr, X_test):\n",
    "    dm = DummyClassifier('prior')\n",
    "    dm.fit(X_tr,y_tr)\n",
    "    return dm.predict_proba(X_test)[:,1]\n",
    "\n",
    "def get_preds_FM(X_tr, y_tr, X_test):\n",
    "    fm = mcmc.FMClassification(n_iter=50, rank=30)\n",
    "    return fm.fit_predict_proba(csr_matrix(X_tr), y_tr, csr_matrix(X_test))\n",
    "\n",
    "def get_preds_NB(X_tr, y_tr, X_test):\n",
    "    gnb = BernoulliNB()\n",
    "    return gnb.fit(X_tr, y_tr).predict_proba(X_test)[:,1]\n",
    "\n",
    "def update_data(data, method, skill, fold, auc, logloss):\n",
    "    data['method'].append(method)\n",
    "    data['skill'].append(skill)\n",
    "    data['fold'].append(fold)\n",
    "    data['auc'].append(auc)\n",
    "    data['log_loss'].append(logloss)\n",
    "    return data\n",
    "\n",
    "def runCV(X, y, cv, data, method, skill, get_predictions):\n",
    "    fold = 0\n",
    "    for tr, test in cv:\n",
    "        preds = get_predictions(X[tr, :], y[tr], X[test, :])\n",
    "        logloss = log_loss(y[test], preds)\n",
    "        auc = roc_auc_score(y[test], preds)\n",
    "        print 'auc = %f, logloss = %f' % (auc, logloss)\n",
    "        data = update_data(data, method, skill, fold, auc, logloss)\n",
    "    \n",
    "        fold += 1\n",
    "    \n",
    "    return data\n",
    "    \n",
    "def get_preds_1_fold(X, y, cv, data, method, skill, get_predictions):\n",
    "    for tr, test in cv:\n",
    "        preds = get_predictions(X[tr, :], y[tr], X[test, :])\n",
    "        return preds"
   ]
  },
  {
   "cell_type": "markdown",
   "metadata": {},
   "source": [
    "#### Log regression with features : double Bag Of Words (one for rad team, one for dire)"
   ]
  },
  {
   "cell_type": "code",
   "execution_count": 110,
   "metadata": {
    "collapsed": false
   },
   "outputs": [],
   "source": [
    "from sklearn.linear_model import LogisticRegression\n",
    "from sklearn.metrics import roc_auc_score, log_loss\n",
    "\n",
    "data = {}\n",
    "data['method'] = []\n",
    "data['skill'] = []\n",
    "data['fold'] = []\n",
    "data['auc'] = []\n",
    "data['log_loss'] = []\n",
    "method  = 'LR_2_BoW'\n",
    "\n",
    "with open('CV_high.pkl', 'r') as f:\n",
    "    cv = pickle.load(f)\n",
    "    \n",
    "X_high = X_high[:, :226] # drop duration from features\n",
    "skill = 'High'\n",
    "data = runCV(X_high, y_high, cv, data, method, skill, get_preds_lr)\n",
    "\n",
    "with open('CV_very_high.pkl', 'r') as f:\n",
    "    cv = pickle.load(f)\n",
    "    \n",
    "X_very_high = X_very_high[:, :226] # drop duration from features\n",
    "skill = 'Very_High'\n",
    "data = runCV(X_very_high, y_very_high, cv, data, method, skill, get_preds_lr)\n",
    "    \n",
    "with open('CV_normal.pkl', 'r') as f:\n",
    "    cv = pickle.load(f)\n",
    "    \n",
    "X_normal = X_normal[:, :226] # drop duration from features\n",
    "skill = 'Normal'\n",
    "data = runCV(X_normal, y_normal, cv, data, method, skill, get_preds_lr)\n",
    "\n",
    "df = pd.DataFrame.from_records(data)\n",
    "df.to_csv(method + '.csv', index = False)"
   ]
  },
  {
   "cell_type": "markdown",
   "metadata": {},
   "source": [
    "#### Log regression with hero features : 1 for rad hero, -1 for dire hero"
   ]
  },
  {
   "cell_type": "code",
   "execution_count": 53,
   "metadata": {
    "collapsed": false
   },
   "outputs": [
    {
     "name": "stdout",
     "output_type": "stream",
     "text": [
      "auc = 0.656041, logloss = 0.653562\n",
      "auc = 0.655015, logloss = 0.653908\n",
      "auc = 0.655378, logloss = 0.654018\n",
      "auc = 0.656829, logloss = 0.653231\n",
      "auc = 0.655398, logloss = 0.653869\n",
      "auc = 0.644136, logloss = 0.659409\n",
      "auc = 0.642386, logloss = 0.660218\n",
      "auc = 0.642838, logloss = 0.660144\n",
      "auc = 0.642864, logloss = 0.659995\n",
      "auc = 0.643327, logloss = 0.659680\n",
      "auc = 0.686881, logloss = 0.634862\n",
      "auc = 0.687393, logloss = 0.634657\n",
      "auc = 0.687118, logloss = 0.634816\n",
      "auc = 0.687887, logloss = 0.634382\n",
      "auc = 0.686697, logloss = 0.634984\n"
     ]
    }
   ],
   "source": [
    "data = {}\n",
    "data['method'] = []\n",
    "data['skill'] = []\n",
    "data['fold'] = []\n",
    "data['auc'] = []\n",
    "data['log_loss'] = []\n",
    "method  = 'LR_1'\n",
    "\n",
    "with open('CV_high.pkl', 'r') as f:\n",
    "    cv = pickle.load(f)\n",
    "    \n",
    "X = X_high[:, :113] - X_high[:, 113:] # drop duration from features\n",
    "skill = 'High'\n",
    "data = runCV(X, y_high, cv, data, method, skill, get_preds_lr)\n",
    "\n",
    "with open('CV_very_high.pkl', 'r') as f:\n",
    "    cv = pickle.load(f)\n",
    "    \n",
    "X = X_very_high[:,:113] - X_very_high[:, 113:] # drop duration from features\n",
    "skill = 'Very_High'\n",
    "data = runCV(X, y_very_high, cv, data, method, skill, get_preds_lr)\n",
    "    \n",
    "with open('CV_normal.pkl', 'r') as f:\n",
    "    cv = pickle.load(f)\n",
    "    \n",
    "X = X_normal[:, :113] - X_normal[:,113:] # drop duration from features\n",
    "skill = 'Normal'\n",
    "data = runCV(X, y_normal, cv, data, method, skill, get_preds_lr)\n",
    "\n",
    "df = pd.DataFrame.from_records(data)\n",
    "df.to_csv(method + '.csv', index = False)"
   ]
  },
  {
   "cell_type": "markdown",
   "metadata": {},
   "source": [
    "#### xgboost"
   ]
  },
  {
   "cell_type": "code",
   "execution_count": 54,
   "metadata": {
    "collapsed": false
   },
   "outputs": [
    {
     "name": "stdout",
     "output_type": "stream",
     "text": [
      "auc = 0.664659, logloss = 0.649048\n",
      "auc = 0.663731, logloss = 0.649400\n",
      "auc = 0.663773, logloss = 0.649543\n",
      "auc = 0.664423, logloss = 0.648929\n",
      "auc = 0.664102, logloss = 0.649339\n",
      "auc = 0.654333, logloss = 0.654212\n",
      "auc = 0.653892, logloss = 0.654373\n",
      "auc = 0.653591, logloss = 0.654734\n",
      "auc = 0.653398, logloss = 0.654701\n",
      "auc = 0.654278, logloss = 0.654101\n",
      "auc = 0.701031, logloss = 0.625551\n",
      "auc = 0.701112, logloss = 0.625635\n",
      "auc = 0.700805, logloss = 0.625692\n",
      "auc = 0.701878, logloss = 0.625126\n",
      "auc = 0.700667, logloss = 0.625865\n",
      "CPU times: user 1h 53min 22s, sys: 38.1 s, total: 1h 54min\n",
      "Wall time: 29min 54s\n"
     ]
    }
   ],
   "source": [
    "%%time\n",
    "import xgboost as xgb\n",
    "\n",
    "data = {}\n",
    "data['method'] = []\n",
    "data['skill'] = []\n",
    "data['fold'] = []\n",
    "data['auc'] = []\n",
    "data['log_loss'] = []\n",
    "method  = 'XGBoost'\n",
    "\n",
    "with open('CV_high.pkl', 'r') as f:\n",
    "    cv = pickle.load(f)\n",
    "    \n",
    "X = X_high[:, :226] # drop duration from features\n",
    "skill = 'High'\n",
    "data = runCV(X, y_high, cv, data, method, skill, get_preds_xgboost)\n",
    "\n",
    "with open('CV_very_high.pkl', 'r') as f:\n",
    "    cv = pickle.load(f)\n",
    "    \n",
    "X = X_very_high[:,:226] # drop duration from features\n",
    "skill = 'Very_High'\n",
    "data = runCV(X, y_very_high, cv, data, method, skill, get_preds_xgboost)\n",
    "    \n",
    "with open('CV_normal.pkl', 'r') as f:\n",
    "    cv = pickle.load(f)\n",
    "    \n",
    "X = X_normal[:, :226] # drop duration from features\n",
    "skill = 'Normal'\n",
    "data = runCV(X, y_normal, cv, data, method, skill, get_preds_xgboost)\n",
    "\n",
    "df = pd.DataFrame.from_records(data)\n",
    "df.to_csv(method + '.csv', index = False)"
   ]
  },
  {
   "cell_type": "code",
   "execution_count": 20,
   "metadata": {
    "collapsed": false
   },
   "outputs": [],
   "source": [
    "from sklearn.dummy import DummyClassifier\n",
    "from sklearn.metrics import roc_auc_score, log_loss\n",
    "\n",
    "data = {}\n",
    "data['method'] = []\n",
    "data['skill'] = []\n",
    "data['fold'] = []\n",
    "data['auc'] = []\n",
    "data['log_loss'] = []\n",
    "method  = 'Dummy'\n",
    "\n",
    "with open('CV_high.pkl', 'r') as f:\n",
    "    cv = pickle.load(f)\n",
    "    \n",
    "X_high = X_high[:, :226] # drop duration from features\n",
    "skill = 'High'\n",
    "data = runCV(X_high, y_high, cv, data, method, skill, get_preds_dummy)\n",
    "\n",
    "with open('CV_very_high.pkl', 'r') as f:\n",
    "    cv = pickle.load(f)\n",
    "    \n",
    "X_very_high = X_very_high[:, :226] # drop duration from features\n",
    "skill = 'Very_High'\n",
    "data = runCV(X_very_high, y_very_high, cv, data, method, skill, get_preds_dummy)\n",
    "    \n",
    "with open('CV_normal.pkl', 'r') as f:\n",
    "    cv = pickle.load(f)\n",
    "    \n",
    "X_normal = X_normal[:, :226] # drop duration from features\n",
    "skill = 'Normal'\n",
    "data = runCV(X_normal, y_normal, cv, data, method, skill, get_preds_dummy)\n",
    "\n",
    "df = pd.DataFrame.from_records(data)\n",
    "df.to_csv(method + '.csv', index = False)"
   ]
  },
  {
   "cell_type": "markdown",
   "metadata": {},
   "source": [
    "#### Try to add more features - roles of heroes in each team"
   ]
  },
  {
   "cell_type": "code",
   "execution_count": 26,
   "metadata": {
    "collapsed": false
   },
   "outputs": [],
   "source": [
    "roles = pd.read_csv('heroes_dotabuff.csv', index_col = 'id')\n",
    "roles_data = np.zeros([113,9])\n",
    "roles_data[roles.index - 1] = roles.as_matrix()[:,3:12]\n",
    "\n",
    "def add_role_features(X):\n",
    "    new_feat_rad = X[:,:113].dot(roles_data)\n",
    "    new_feat_dire = X[:,113:].dot(roles_data)\n",
    "    \n",
    "    return np.concatenate((X, np.array(new_feat_rad), np.array(new_feat_dire)), axis = 1)"
   ]
  },
  {
   "cell_type": "code",
   "execution_count": null,
   "metadata": {
    "collapsed": true
   },
   "outputs": [],
   "source": [
    "import xgboost as xgb\n",
    "\n",
    "data = {}\n",
    "data['method'] = []\n",
    "data['skill'] = []\n",
    "data['fold'] = []\n",
    "data['auc'] = []\n",
    "data['log_loss'] = []\n",
    "method  = 'XGBoost_roles'\n",
    "\n",
    "with open('CV_high.pkl', 'r') as f:\n",
    "    cv = pickle.load(f)\n",
    "    \n",
    "X = add_role_features(X_high[:, :226]) # drop duration from features\n",
    "skill = 'High'\n",
    "data = runCV(X, y_high, cv, data, method, skill, get_preds_xgboost)\n",
    "\n",
    "with open('CV_very_high.pkl', 'r') as f:\n",
    "    cv = pickle.load(f)\n",
    "    \n",
    "X = add_role_features(X_very_high[:, :226]) # drop duration from features\n",
    "skill = 'Very_High'\n",
    "data = runCV(X, y_very_high, cv, data, method, skill, get_preds_xgboost)\n",
    "    \n",
    "with open('CV_normal.pkl', 'r') as f:\n",
    "    cv = pickle.load(f)\n",
    "    \n",
    "X = add_role_features(X_normal[:, :226]) # drop duration from features\n",
    "skill = 'Normal'\n",
    "data = runCV(X, y_normal, cv, data, method, skill, get_preds_xgboost)\n",
    "\n",
    "df = pd.DataFrame.from_records(data)\n",
    "df.to_csv(method + '.csv', index = False)"
   ]
  },
  {
   "cell_type": "code",
   "execution_count": null,
   "metadata": {
    "collapsed": false
   },
   "outputs": [
    {
     "name": "stdout",
     "output_type": "stream",
     "text": [
      "auc = 0.701591, logloss = 0.625161\n",
      "auc = 0.701625, logloss = 0.625196\n",
      "auc = 0.701615, logloss = 0.625133\n",
      "auc = 0.702601, logloss = 0.624584"
     ]
    }
   ],
   "source": [
    "with open('CV_normal.pkl', 'r') as f:\n",
    "    cv = pickle.load(f)\n",
    "    \n",
    "X = add_role_features(X_normal[:, :226]) # drop duration from features\n",
    "skill = 'Normal'\n",
    "data = runCV(X, y_normal, cv, data, method, skill, get_preds_xgboost)\n",
    "\n",
    "df = pd.DataFrame.from_records(data)\n",
    "df.to_csv(method + '.csv', index = False)"
   ]
  },
  {
   "cell_type": "code",
   "execution_count": 70,
   "metadata": {
    "collapsed": false
   },
   "outputs": [],
   "source": [
    "del X"
   ]
  },
  {
   "cell_type": "markdown",
   "metadata": {},
   "source": [
    "#### libFM"
   ]
  },
  {
   "cell_type": "code",
   "execution_count": null,
   "metadata": {
    "collapsed": true
   },
   "outputs": [],
   "source": [
    "from fastFM import mcmc\n",
    "from scipy.sparse import csr_matrix\n",
    "\n",
    "data = {}\n",
    "data['method'] = []\n",
    "data['skill'] = []\n",
    "data['fold'] = []\n",
    "data['auc'] = []\n",
    "data['log_loss'] = []\n",
    "method  = 'libFM'\n",
    "\n",
    "with open('CV_high.pkl', 'r') as f:\n",
    "    cv = pickle.load(f)\n",
    "    \n",
    "X_high = X_high[:, :226] # drop duration from features\n",
    "skill = 'High'\n",
    "data = runCV(X_high, y_high, cv, data, method, skill, get_preds_FM)\n",
    "\n",
    "with open('CV_very_high.pkl', 'r') as f:\n",
    "    cv = pickle.load(f)\n",
    "    \n",
    "X_very_high = X_very_high[:, :226] # drop duration from features\n",
    "skill = 'Very_High'\n",
    "data = runCV(X_very_high, y_very_high, cv, data, method, skill, get_preds_FM)\n",
    "    \n",
    "with open('CV_normal.pkl', 'r') as f:\n",
    "    cv = pickle.load(f)\n",
    "    \n",
    "X_normal = X_normal[:, :226] # drop duration from features\n",
    "skill = 'Normal'\n",
    "data = runCV(X_normal, y_normal, cv, data, method, skill, get_preds_FM)\n",
    "\n",
    "df = pd.DataFrame.from_records(data)\n",
    "df.to_csv(method + '.csv', index = False)"
   ]
  },
  {
   "cell_type": "markdown",
   "metadata": {},
   "source": [
    "### Naive Bayes"
   ]
  },
  {
   "cell_type": "code",
   "execution_count": 23,
   "metadata": {
    "collapsed": false
   },
   "outputs": [
    {
     "name": "stdout",
     "output_type": "stream",
     "text": [
      "auc = 0.653430, logloss = 0.655135\n",
      "auc = 0.652499, logloss = 0.655442\n",
      "auc = 0.652842, logloss = 0.655604\n",
      "auc = 0.654556, logloss = 0.654622\n",
      "auc = 0.653086, logloss = 0.655326\n",
      "auc = 0.641189, logloss = 0.661189\n",
      "auc = 0.639809, logloss = 0.661870\n",
      "auc = 0.639903, logloss = 0.661966\n",
      "auc = 0.640402, logloss = 0.661607\n",
      "auc = 0.641365, logloss = 0.661034\n",
      "auc = 0.684866, logloss = 0.636103\n",
      "auc = 0.685576, logloss = 0.635759\n",
      "auc = 0.685097, logloss = 0.636081\n",
      "auc = 0.685981, logloss = 0.635531\n",
      "auc = 0.684732, logloss = 0.636204\n"
     ]
    }
   ],
   "source": [
    "import pickle\n",
    "from sklearn.naive_bayes import BernoulliNB\n",
    "from sklearn.metrics import roc_auc_score, log_loss\n",
    "\n",
    "data = {}\n",
    "data['method'] = []\n",
    "data['skill'] = []\n",
    "data['fold'] = []\n",
    "data['auc'] = []\n",
    "data['log_loss'] = []\n",
    "method  = 'NaiveBayes'\n",
    "\n",
    "with open('CV_high.pkl', 'r') as f:\n",
    "    cv = pickle.load(f)\n",
    "    \n",
    "X_high = X_high[:, :226] # drop duration from features\n",
    "skill = 'High'\n",
    "data = runCV(X_high, y_high, cv, data, method, skill, get_preds_NB)\n",
    "\n",
    "with open('CV_very_high.pkl', 'r') as f:\n",
    "    cv = pickle.load(f)\n",
    "    \n",
    "X_very_high = X_very_high[:, :226] # drop duration from features\n",
    "skill = 'Very_High'\n",
    "data = runCV(X_very_high, y_very_high, cv, data, method, skill, get_preds_NB)\n",
    "    \n",
    "with open('CV_normal.pkl', 'r') as f:\n",
    "    cv = pickle.load(f)\n",
    "    \n",
    "X_normal = X_normal[:, :226] # drop duration from features\n",
    "skill = 'Normal'\n",
    "data = runCV(X_normal, y_normal, cv, data, method, skill, get_preds_NB)\n",
    "\n",
    "df = pd.DataFrame.from_records(data)\n",
    "df.to_csv(method + '.csv', index = False)\n"
   ]
  },
  {
   "cell_type": "markdown",
   "metadata": {},
   "source": [
    "### get preds for 1st fold and write them"
   ]
  },
  {
   "cell_type": "code",
   "execution_count": 15,
   "metadata": {
    "collapsed": true
   },
   "outputs": [],
   "source": [
    "from sklearn.linear_model import LogisticRegression\n",
    "from sklearn.metrics import roc_auc_score, log_loss\n",
    "\n",
    "import xgboost as xgb\n",
    "\n",
    "from fastFM import mcmc\n",
    "from scipy.sparse import csr_matrix\n",
    "\n",
    "import pickle\n",
    "from sklearn.naive_bayes import BernoulliNB\n",
    "from sklearn.metrics import roc_auc_score, log_loss\n",
    "\n",
    "from sklearn.dummy import DummyClassifier"
   ]
  },
  {
   "cell_type": "code",
   "execution_count": 31,
   "metadata": {
    "collapsed": true
   },
   "outputs": [],
   "source": [
    "def write_preds(method, get_preds_function):\n",
    "    with open('CV_high.pkl', 'r') as f:\n",
    "        cv = pickle.load(f)\n",
    "    skill = 'High'\n",
    "    preds = get_preds_1_fold(X_high, y_high, cv, [], method, skill, get_preds_function)\n",
    "    with open('preds/' + method + skill + '_preds.pkl', 'w+') as f:\n",
    "        pickle.dump(preds, f)\n",
    "\n",
    "    with open('CV_very_high.pkl', 'r') as f:\n",
    "        cv = pickle.load(f)\n",
    "    skill = 'Very_High'\n",
    "    preds = get_preds_1_fold(X_very_high, y_very_high, cv, [], method, skill, get_preds_function)\n",
    "    with open('preds/' + method + skill + '_preds.pkl', 'w+') as f:\n",
    "        pickle.dump(preds, f)\n",
    "\n",
    "    with open('CV_normal.pkl', 'r') as f:\n",
    "        cv = pickle.load(f)\n",
    "    skill = 'Normal'\n",
    "    preds = get_preds_1_fold(X_normal, y_normal, cv, [], method, skill, get_preds_function)\n",
    "    with open('preds/' + method + skill + '_preds.pkl', 'w+') as f:\n",
    "        pickle.dump(preds, f)\n",
    "        \n",
    "def write_preds_with_update(method, get_preds_function, update_function):\n",
    "    with open('CV_high.pkl', 'r') as f:\n",
    "        cv = pickle.load(f)\n",
    "    skill = 'High'\n",
    "    preds = get_preds_1_fold(update_function(X_high), y_high, cv, [], method, skill, get_preds_function)\n",
    "    with open('preds/' + method + skill + '_preds.pkl', 'w+') as f:\n",
    "        pickle.dump(preds, f)\n",
    "\n",
    "    with open('CV_very_high.pkl', 'r') as f:\n",
    "        cv = pickle.load(f)\n",
    "    skill = 'Very_High'\n",
    "    preds = get_preds_1_fold(update_function(X_very_high), y_very_high, cv, [], method, skill, get_preds_function)\n",
    "    with open('preds/' + method + skill + '_preds.pkl', 'w+') as f:\n",
    "        pickle.dump(preds, f)\n",
    "\n",
    "    with open('CV_normal.pkl', 'r') as f:\n",
    "        cv = pickle.load(f)\n",
    "    skill = 'Normal'\n",
    "    preds = get_preds_1_fold(update_function(X_normal), y_normal, cv, [], method, skill, get_preds_function)\n",
    "    with open('preds/' + method + skill + '_preds.pkl', 'w+') as f:\n",
    "        pickle.dump(preds, f)\n"
   ]
  },
  {
   "cell_type": "code",
   "execution_count": 32,
   "metadata": {
    "collapsed": false
   },
   "outputs": [
    {
     "name": "stdout",
     "output_type": "stream",
     "text": [
      "CPU times: user 29.3 s, sys: 14.7 s, total: 44 s\n",
      "Wall time: 43 s\n"
     ]
    }
   ],
   "source": [
    "%%time\n",
    "method  = 'NaiveBayes'\n",
    "write_preds(method, get_preds_NB)"
   ]
  },
  {
   "cell_type": "code",
   "execution_count": 33,
   "metadata": {
    "collapsed": false
   },
   "outputs": [
    {
     "name": "stdout",
     "output_type": "stream",
     "text": [
      "CPU times: user 19min 33s, sys: 9.22 s, total: 19min 42s\n",
      "Wall time: 5min 12s\n"
     ]
    }
   ],
   "source": [
    "%%time\n",
    "method  = 'XGBoost'\n",
    "write_preds(method, get_preds_xgboost)"
   ]
  },
  {
   "cell_type": "code",
   "execution_count": 34,
   "metadata": {
    "collapsed": false
   },
   "outputs": [
    {
     "name": "stdout",
     "output_type": "stream",
     "text": [
      "CPU times: user 45.6 s, sys: 5.62 s, total: 51.3 s\n",
      "Wall time: 51.5 s\n"
     ]
    }
   ],
   "source": [
    "%%time\n",
    "method  = 'LR_2_BoW'\n",
    "write_preds(method, get_preds_lr)"
   ]
  },
  {
   "cell_type": "code",
   "execution_count": 35,
   "metadata": {
    "collapsed": false
   },
   "outputs": [
    {
     "name": "stdout",
     "output_type": "stream",
     "text": [
      "CPU times: user 4.66 s, sys: 3.87 s, total: 8.54 s\n",
      "Wall time: 8.55 s\n"
     ]
    }
   ],
   "source": [
    "%%time\n",
    "method  = 'Dummy'\n",
    "write_preds(method, get_preds_dummy)"
   ]
  },
  {
   "cell_type": "code",
   "execution_count": 36,
   "metadata": {
    "collapsed": false
   },
   "outputs": [
    {
     "name": "stdout",
     "output_type": "stream",
     "text": [
      "CPU times: user 55min 28s, sys: 18.9 s, total: 55min 47s\n",
      "Wall time: 15min 11s\n"
     ]
    }
   ],
   "source": [
    "%%time\n",
    "method  = 'XGBoost_roles'\n",
    "write_preds_with_update(method, get_preds_xgboost, add_role_features)"
   ]
  },
  {
   "cell_type": "code",
   "execution_count": 38,
   "metadata": {
    "collapsed": false
   },
   "outputs": [
    {
     "name": "stdout",
     "output_type": "stream",
     "text": [
      "CPU times: user 56.4 s, sys: 6.22 s, total: 1min 2s\n",
      "Wall time: 1min 2s\n"
     ]
    }
   ],
   "source": [
    "%%time\n",
    "method  = 'LR_1'\n",
    "write_preds_with_update(method, get_preds_lr, lambda data : data[:, :113] - data[:, 113:])"
   ]
  },
  {
   "cell_type": "code",
   "execution_count": null,
   "metadata": {
    "collapsed": false
   },
   "outputs": [
    {
     "name": "stdout",
     "output_type": "stream",
     "text": [
      "CPU times: user 1h 21min 33s, sys: 20.3 s, total: 1h 21min 53s\n",
      "Wall time: 1h 21min 53s\n"
     ]
    }
   ],
   "source": [
    "%%time\n",
    "method  = 'libFM'\n",
    "write_preds(method, get_preds_FM)"
   ]
  },
  {
   "cell_type": "code",
   "execution_count": 12,
   "metadata": {
    "collapsed": false
   },
   "outputs": [
    {
     "name": "stdout",
     "output_type": "stream",
     "text": [
      "DummyHigh_preds.pkl\t  LR_2_BoWVery_High_preds.pkl\r\n",
      "DummyNormal_preds.pkl\t  NaiveBayesHigh_preds.pkl\r\n",
      "DummyVery_High_preds.pkl  NaiveBayesNormal_preds.pkl\r\n",
      "libFMHigh_preds.pkl\t  NaiveBayesVery_High_preds.pkl\r\n",
      "libFMNormal_preds.pkl\t  XGBoostHigh_preds.pkl\r\n",
      "libFMVery_High_preds.pkl  XGBoostNormal_preds.pkl\r\n",
      "LR_1High_preds.pkl\t  XGBoost_rolesHigh_preds.pkl\r\n",
      "LR_1Normal_preds.pkl\t  XGBoost_rolesNormal_preds.pkl\r\n",
      "LR_1Very_High_preds.pkl   XGBoost_rolesVery_High_preds.pkl\r\n",
      "LR_2_BoWHigh_preds.pkl\t  XGBoostVery_High_preds.pkl\r\n",
      "LR_2_BoWNormal_preds.pkl\r\n"
     ]
    }
   ],
   "source": [
    "!ls preds/"
   ]
  },
  {
   "cell_type": "code",
   "execution_count": 18,
   "metadata": {
    "collapsed": false
   },
   "outputs": [
    {
     "name": "stdout",
     "output_type": "stream",
     "text": [
      "Populating the interactive namespace from numpy and matplotlib\n"
     ]
    },
    {
     "name": "stderr",
     "output_type": "stream",
     "text": [
      "WARNING: pylab import has clobbered these variables: ['test', 'f']\n",
      "`%matplotlib` prevents importing * from pylab and numpy\n"
     ]
    }
   ],
   "source": [
    "%pylab inline\n",
    "import matplotlib.pyplot as plt"
   ]
  },
  {
   "cell_type": "code",
   "execution_count": 32,
   "metadata": {
    "collapsed": false
   },
   "outputs": [
    {
     "data": {
      "image/png": "[encoded data removed]",
      "text/plain": [
       "<matplotlib.figure.Figure at 0x8d2475d0>"
      ]
     },
     "metadata": {},
     "output_type": "display_data"
    }
   ],
   "source": [
    "figsize(10,10)\n",
    "import pickle\n",
    "from sklearn.metrics import roc_curve\n",
    "skill = 'Normal'\n",
    "methods = ['Dummy', 'NaiveBayes', 'XGBoost', 'XGBoost_roles', 'LR_1', 'LR_2_BoW', 'libFM']\n",
    "with open('CV_' + skill.lower() + '.pkl', 'r') as f:\n",
    "    cv = pickle.load(f)\n",
    "for tr, test in cv:\n",
    "    y = y_normal[test]\n",
    "    break\n",
    "\n",
    "for method in methods:\n",
    "    with open('preds/' + method + skill + '_preds.pkl', 'r') as f:\n",
    "        preds = pickle.load(f)\n",
    "    (fpr, tpr, thresholds) = roc_curve(y, preds)\n",
    "    plt.plot(fpr, tpr, label = method)\n",
    "\n",
    "plt.legend()\n",
    "plt.title(skill + ' skill')\n",
    "plt.show()"
   ]
  },
  {
   "cell_type": "markdown",
   "metadata": {},
   "source": [
    "###Other"
   ]
  },
  {
   "cell_type": "markdown",
   "metadata": {},
   "source": [
    "#### Tune parameters for xgboost"
   ]
  },
  {
   "cell_type": "code",
   "execution_count": 48,
   "metadata": {
    "collapsed": false
   },
   "outputs": [],
   "source": [
    "dtrain = xgb.DMatrix(add_role_features(X_high[:, :226]), label = y_high)\n",
    "param = {'bst:max_depth':5, 'bst:eta':0.4, 'silent':1, 'objective':'binary:logistic' }\n",
    "param['nthread'] = 4\n",
    "param['eval_metric'] = 'logloss'\n",
    "num_round = 300\n",
    "bst = xgb.cv(param, dtrain, num_round, nfold=5, as_pandas = True, seed = 0)"
   ]
  },
  {
   "cell_type": "code",
   "execution_count": 51,
   "metadata": {
    "collapsed": false
   },
   "outputs": [
    {
     "data": {
      "text/html": [
       "<div>\n",
       "<table border=\"1\" class=\"dataframe\">\n",
       "  <thead>\n",
       "    <tr style=\"text-align: right;\">\n",
       "      <th></th>\n",
       "      <th>test-logloss-mean</th>\n",
       "      <th>test-logloss-std</th>\n",
       "      <th>train-logloss-mean</th>\n",
       "      <th>train-logloss-std</th>\n",
       "    </tr>\n",
       "  </thead>\n",
       "  <tbody>\n",
       "    <tr>\n",
       "      <th>250</th>\n",
       "      <td>0.649202</td>\n",
       "      <td>0.000468</td>\n",
       "      <td>0.631645</td>\n",
       "      <td>0.000176</td>\n",
       "    </tr>\n",
       "    <tr>\n",
       "      <th>251</th>\n",
       "      <td>0.649201</td>\n",
       "      <td>0.000476</td>\n",
       "      <td>0.631576</td>\n",
       "      <td>0.000179</td>\n",
       "    </tr>\n",
       "    <tr>\n",
       "      <th>252</th>\n",
       "      <td>0.649193</td>\n",
       "      <td>0.000469</td>\n",
       "      <td>0.631503</td>\n",
       "      <td>0.000185</td>\n",
       "    </tr>\n",
       "    <tr>\n",
       "      <th>253</th>\n",
       "      <td>0.649189</td>\n",
       "      <td>0.000459</td>\n",
       "      <td>0.631435</td>\n",
       "      <td>0.000185</td>\n",
       "    </tr>\n",
       "    <tr>\n",
       "      <th>254</th>\n",
       "      <td>0.649181</td>\n",
       "      <td>0.000476</td>\n",
       "      <td>0.631368</td>\n",
       "      <td>0.000180</td>\n",
       "    </tr>\n",
       "    <tr>\n",
       "      <th>255</th>\n",
       "      <td>0.649175</td>\n",
       "      <td>0.000483</td>\n",
       "      <td>0.631296</td>\n",
       "      <td>0.000178</td>\n",
       "    </tr>\n",
       "    <tr>\n",
       "      <th>256</th>\n",
       "      <td>0.649178</td>\n",
       "      <td>0.000476</td>\n",
       "      <td>0.631234</td>\n",
       "      <td>0.000177</td>\n",
       "    </tr>\n",
       "    <tr>\n",
       "      <th>257</th>\n",
       "      <td>0.649161</td>\n",
       "      <td>0.000478</td>\n",
       "      <td>0.631166</td>\n",
       "      <td>0.000180</td>\n",
       "    </tr>\n",
       "    <tr>\n",
       "      <th>258</th>\n",
       "      <td>0.649156</td>\n",
       "      <td>0.000469</td>\n",
       "      <td>0.631098</td>\n",
       "      <td>0.000186</td>\n",
       "    </tr>\n",
       "    <tr>\n",
       "      <th>259</th>\n",
       "      <td>0.649151</td>\n",
       "      <td>0.000479</td>\n",
       "      <td>0.631039</td>\n",
       "      <td>0.000197</td>\n",
       "    </tr>\n",
       "    <tr>\n",
       "      <th>260</th>\n",
       "      <td>0.649145</td>\n",
       "      <td>0.000484</td>\n",
       "      <td>0.630979</td>\n",
       "      <td>0.000198</td>\n",
       "    </tr>\n",
       "    <tr>\n",
       "      <th>261</th>\n",
       "      <td>0.649139</td>\n",
       "      <td>0.000490</td>\n",
       "      <td>0.630913</td>\n",
       "      <td>0.000198</td>\n",
       "    </tr>\n",
       "    <tr>\n",
       "      <th>262</th>\n",
       "      <td>0.649138</td>\n",
       "      <td>0.000492</td>\n",
       "      <td>0.630849</td>\n",
       "      <td>0.000193</td>\n",
       "    </tr>\n",
       "    <tr>\n",
       "      <th>263</th>\n",
       "      <td>0.649130</td>\n",
       "      <td>0.000492</td>\n",
       "      <td>0.630784</td>\n",
       "      <td>0.000186</td>\n",
       "    </tr>\n",
       "    <tr>\n",
       "      <th>264</th>\n",
       "      <td>0.649125</td>\n",
       "      <td>0.000498</td>\n",
       "      <td>0.630716</td>\n",
       "      <td>0.000176</td>\n",
       "    </tr>\n",
       "    <tr>\n",
       "      <th>265</th>\n",
       "      <td>0.649120</td>\n",
       "      <td>0.000498</td>\n",
       "      <td>0.630651</td>\n",
       "      <td>0.000177</td>\n",
       "    </tr>\n",
       "    <tr>\n",
       "      <th>266</th>\n",
       "      <td>0.649125</td>\n",
       "      <td>0.000505</td>\n",
       "      <td>0.630586</td>\n",
       "      <td>0.000171</td>\n",
       "    </tr>\n",
       "    <tr>\n",
       "      <th>267</th>\n",
       "      <td>0.649120</td>\n",
       "      <td>0.000503</td>\n",
       "      <td>0.630520</td>\n",
       "      <td>0.000170</td>\n",
       "    </tr>\n",
       "    <tr>\n",
       "      <th>268</th>\n",
       "      <td>0.649122</td>\n",
       "      <td>0.000506</td>\n",
       "      <td>0.630452</td>\n",
       "      <td>0.000175</td>\n",
       "    </tr>\n",
       "    <tr>\n",
       "      <th>269</th>\n",
       "      <td>0.649123</td>\n",
       "      <td>0.000517</td>\n",
       "      <td>0.630383</td>\n",
       "      <td>0.000174</td>\n",
       "    </tr>\n",
       "    <tr>\n",
       "      <th>270</th>\n",
       "      <td>0.649109</td>\n",
       "      <td>0.000514</td>\n",
       "      <td>0.630324</td>\n",
       "      <td>0.000175</td>\n",
       "    </tr>\n",
       "    <tr>\n",
       "      <th>271</th>\n",
       "      <td>0.649094</td>\n",
       "      <td>0.000504</td>\n",
       "      <td>0.630255</td>\n",
       "      <td>0.000179</td>\n",
       "    </tr>\n",
       "    <tr>\n",
       "      <th>272</th>\n",
       "      <td>0.649094</td>\n",
       "      <td>0.000503</td>\n",
       "      <td>0.630186</td>\n",
       "      <td>0.000183</td>\n",
       "    </tr>\n",
       "    <tr>\n",
       "      <th>273</th>\n",
       "      <td>0.649095</td>\n",
       "      <td>0.000508</td>\n",
       "      <td>0.630123</td>\n",
       "      <td>0.000177</td>\n",
       "    </tr>\n",
       "    <tr>\n",
       "      <th>274</th>\n",
       "      <td>0.649103</td>\n",
       "      <td>0.000504</td>\n",
       "      <td>0.630063</td>\n",
       "      <td>0.000181</td>\n",
       "    </tr>\n",
       "    <tr>\n",
       "      <th>275</th>\n",
       "      <td>0.649098</td>\n",
       "      <td>0.000516</td>\n",
       "      <td>0.629995</td>\n",
       "      <td>0.000180</td>\n",
       "    </tr>\n",
       "    <tr>\n",
       "      <th>276</th>\n",
       "      <td>0.649077</td>\n",
       "      <td>0.000520</td>\n",
       "      <td>0.629927</td>\n",
       "      <td>0.000179</td>\n",
       "    </tr>\n",
       "    <tr>\n",
       "      <th>277</th>\n",
       "      <td>0.649068</td>\n",
       "      <td>0.000527</td>\n",
       "      <td>0.629871</td>\n",
       "      <td>0.000176</td>\n",
       "    </tr>\n",
       "    <tr>\n",
       "      <th>278</th>\n",
       "      <td>0.649070</td>\n",
       "      <td>0.000532</td>\n",
       "      <td>0.629806</td>\n",
       "      <td>0.000164</td>\n",
       "    </tr>\n",
       "    <tr>\n",
       "      <th>279</th>\n",
       "      <td>0.649055</td>\n",
       "      <td>0.000535</td>\n",
       "      <td>0.629735</td>\n",
       "      <td>0.000153</td>\n",
       "    </tr>\n",
       "    <tr>\n",
       "      <th>280</th>\n",
       "      <td>0.649036</td>\n",
       "      <td>0.000544</td>\n",
       "      <td>0.629673</td>\n",
       "      <td>0.000160</td>\n",
       "    </tr>\n",
       "    <tr>\n",
       "      <th>281</th>\n",
       "      <td>0.649030</td>\n",
       "      <td>0.000536</td>\n",
       "      <td>0.629614</td>\n",
       "      <td>0.000159</td>\n",
       "    </tr>\n",
       "    <tr>\n",
       "      <th>282</th>\n",
       "      <td>0.649023</td>\n",
       "      <td>0.000524</td>\n",
       "      <td>0.629555</td>\n",
       "      <td>0.000160</td>\n",
       "    </tr>\n",
       "    <tr>\n",
       "      <th>283</th>\n",
       "      <td>0.649017</td>\n",
       "      <td>0.000521</td>\n",
       "      <td>0.629497</td>\n",
       "      <td>0.000161</td>\n",
       "    </tr>\n",
       "    <tr>\n",
       "      <th>284</th>\n",
       "      <td>0.649006</td>\n",
       "      <td>0.000520</td>\n",
       "      <td>0.629433</td>\n",
       "      <td>0.000160</td>\n",
       "    </tr>\n",
       "    <tr>\n",
       "      <th>285</th>\n",
       "      <td>0.648990</td>\n",
       "      <td>0.000527</td>\n",
       "      <td>0.629370</td>\n",
       "      <td>0.000162</td>\n",
       "    </tr>\n",
       "    <tr>\n",
       "      <th>286</th>\n",
       "      <td>0.648984</td>\n",
       "      <td>0.000534</td>\n",
       "      <td>0.629307</td>\n",
       "      <td>0.000156</td>\n",
       "    </tr>\n",
       "    <tr>\n",
       "      <th>287</th>\n",
       "      <td>0.648980</td>\n",
       "      <td>0.000536</td>\n",
       "      <td>0.629239</td>\n",
       "      <td>0.000159</td>\n",
       "    </tr>\n",
       "    <tr>\n",
       "      <th>288</th>\n",
       "      <td>0.648968</td>\n",
       "      <td>0.000547</td>\n",
       "      <td>0.629174</td>\n",
       "      <td>0.000148</td>\n",
       "    </tr>\n",
       "    <tr>\n",
       "      <th>289</th>\n",
       "      <td>0.648964</td>\n",
       "      <td>0.000556</td>\n",
       "      <td>0.629109</td>\n",
       "      <td>0.000147</td>\n",
       "    </tr>\n",
       "    <tr>\n",
       "      <th>290</th>\n",
       "      <td>0.648959</td>\n",
       "      <td>0.000552</td>\n",
       "      <td>0.629050</td>\n",
       "      <td>0.000148</td>\n",
       "    </tr>\n",
       "    <tr>\n",
       "      <th>291</th>\n",
       "      <td>0.648955</td>\n",
       "      <td>0.000557</td>\n",
       "      <td>0.628985</td>\n",
       "      <td>0.000141</td>\n",
       "    </tr>\n",
       "    <tr>\n",
       "      <th>292</th>\n",
       "      <td>0.648954</td>\n",
       "      <td>0.000558</td>\n",
       "      <td>0.628922</td>\n",
       "      <td>0.000138</td>\n",
       "    </tr>\n",
       "    <tr>\n",
       "      <th>293</th>\n",
       "      <td>0.648959</td>\n",
       "      <td>0.000556</td>\n",
       "      <td>0.628857</td>\n",
       "      <td>0.000140</td>\n",
       "    </tr>\n",
       "    <tr>\n",
       "      <th>294</th>\n",
       "      <td>0.648954</td>\n",
       "      <td>0.000555</td>\n",
       "      <td>0.628799</td>\n",
       "      <td>0.000136</td>\n",
       "    </tr>\n",
       "    <tr>\n",
       "      <th>295</th>\n",
       "      <td>0.648941</td>\n",
       "      <td>0.000549</td>\n",
       "      <td>0.628740</td>\n",
       "      <td>0.000144</td>\n",
       "    </tr>\n",
       "    <tr>\n",
       "      <th>296</th>\n",
       "      <td>0.648952</td>\n",
       "      <td>0.000549</td>\n",
       "      <td>0.628686</td>\n",
       "      <td>0.000150</td>\n",
       "    </tr>\n",
       "    <tr>\n",
       "      <th>297</th>\n",
       "      <td>0.648942</td>\n",
       "      <td>0.000558</td>\n",
       "      <td>0.628620</td>\n",
       "      <td>0.000153</td>\n",
       "    </tr>\n",
       "    <tr>\n",
       "      <th>298</th>\n",
       "      <td>0.648936</td>\n",
       "      <td>0.000554</td>\n",
       "      <td>0.628558</td>\n",
       "      <td>0.000149</td>\n",
       "    </tr>\n",
       "    <tr>\n",
       "      <th>299</th>\n",
       "      <td>0.648939</td>\n",
       "      <td>0.000564</td>\n",
       "      <td>0.628501</td>\n",
       "      <td>0.000148</td>\n",
       "    </tr>\n",
       "    <tr>\n",
       "      <th>300</th>\n",
       "      <td>0.648934</td>\n",
       "      <td>0.000565</td>\n",
       "      <td>0.628444</td>\n",
       "      <td>0.000145</td>\n",
       "    </tr>\n",
       "    <tr>\n",
       "      <th>301</th>\n",
       "      <td>0.648933</td>\n",
       "      <td>0.000567</td>\n",
       "      <td>0.628380</td>\n",
       "      <td>0.000146</td>\n",
       "    </tr>\n",
       "    <tr>\n",
       "      <th>302</th>\n",
       "      <td>0.648928</td>\n",
       "      <td>0.000574</td>\n",
       "      <td>0.628321</td>\n",
       "      <td>0.000148</td>\n",
       "    </tr>\n",
       "    <tr>\n",
       "      <th>303</th>\n",
       "      <td>0.648929</td>\n",
       "      <td>0.000571</td>\n",
       "      <td>0.628255</td>\n",
       "      <td>0.000145</td>\n",
       "    </tr>\n",
       "    <tr>\n",
       "      <th>304</th>\n",
       "      <td>0.648936</td>\n",
       "      <td>0.000572</td>\n",
       "      <td>0.628191</td>\n",
       "      <td>0.000147</td>\n",
       "    </tr>\n",
       "    <tr>\n",
       "      <th>305</th>\n",
       "      <td>0.648939</td>\n",
       "      <td>0.000582</td>\n",
       "      <td>0.628137</td>\n",
       "      <td>0.000143</td>\n",
       "    </tr>\n",
       "    <tr>\n",
       "      <th>306</th>\n",
       "      <td>0.648945</td>\n",
       "      <td>0.000588</td>\n",
       "      <td>0.628079</td>\n",
       "      <td>0.000138</td>\n",
       "    </tr>\n",
       "    <tr>\n",
       "      <th>307</th>\n",
       "      <td>0.648947</td>\n",
       "      <td>0.000588</td>\n",
       "      <td>0.628023</td>\n",
       "      <td>0.000131</td>\n",
       "    </tr>\n",
       "    <tr>\n",
       "      <th>308</th>\n",
       "      <td>0.648948</td>\n",
       "      <td>0.000580</td>\n",
       "      <td>0.627965</td>\n",
       "      <td>0.000132</td>\n",
       "    </tr>\n",
       "    <tr>\n",
       "      <th>309</th>\n",
       "      <td>0.648952</td>\n",
       "      <td>0.000579</td>\n",
       "      <td>0.627904</td>\n",
       "      <td>0.000128</td>\n",
       "    </tr>\n",
       "  </tbody>\n",
       "</table>\n",
       "</div>"
      ],
      "text/plain": [
       "     test-logloss-mean  test-logloss-std  train-logloss-mean  \\\n",
       "250           0.649202          0.000468            0.631645   \n",
       "251           0.649201          0.000476            0.631576   \n",
       "252           0.649193          0.000469            0.631503   \n",
       "253           0.649189          0.000459            0.631435   \n",
       "254           0.649181          0.000476            0.631368   \n",
       "255           0.649175          0.000483            0.631296   \n",
       "256           0.649178          0.000476            0.631234   \n",
       "257           0.649161          0.000478            0.631166   \n",
       "258           0.649156          0.000469            0.631098   \n",
       "259           0.649151          0.000479            0.631039   \n",
       "260           0.649145          0.000484            0.630979   \n",
       "261           0.649139          0.000490            0.630913   \n",
       "262           0.649138          0.000492            0.630849   \n",
       "263           0.649130          0.000492            0.630784   \n",
       "264           0.649125          0.000498            0.630716   \n",
       "265           0.649120          0.000498            0.630651   \n",
       "266           0.649125          0.000505            0.630586   \n",
       "267           0.649120          0.000503            0.630520   \n",
       "268           0.649122          0.000506            0.630452   \n",
       "269           0.649123          0.000517            0.630383   \n",
       "270           0.649109          0.000514            0.630324   \n",
       "271           0.649094          0.000504            0.630255   \n",
       "272           0.649094          0.000503            0.630186   \n",
       "273           0.649095          0.000508            0.630123   \n",
       "274           0.649103          0.000504            0.630063   \n",
       "275           0.649098          0.000516            0.629995   \n",
       "276           0.649077          0.000520            0.629927   \n",
       "277           0.649068          0.000527            0.629871   \n",
       "278           0.649070          0.000532            0.629806   \n",
       "279           0.649055          0.000535            0.629735   \n",
       "280           0.649036          0.000544            0.629673   \n",
       "281           0.649030          0.000536            0.629614   \n",
       "282           0.649023          0.000524            0.629555   \n",
       "283           0.649017          0.000521            0.629497   \n",
       "284           0.649006          0.000520            0.629433   \n",
       "285           0.648990          0.000527            0.629370   \n",
       "286           0.648984          0.000534            0.629307   \n",
       "287           0.648980          0.000536            0.629239   \n",
       "288           0.648968          0.000547            0.629174   \n",
       "289           0.648964          0.000556            0.629109   \n",
       "290           0.648959          0.000552            0.629050   \n",
       "291           0.648955          0.000557            0.628985   \n",
       "292           0.648954          0.000558            0.628922   \n",
       "293           0.648959          0.000556            0.628857   \n",
       "294           0.648954          0.000555            0.628799   \n",
       "295           0.648941          0.000549            0.628740   \n",
       "296           0.648952          0.000549            0.628686   \n",
       "297           0.648942          0.000558            0.628620   \n",
       "298           0.648936          0.000554            0.628558   \n",
       "299           0.648939          0.000564            0.628501   \n",
       "300           0.648934          0.000565            0.628444   \n",
       "301           0.648933          0.000567            0.628380   \n",
       "302           0.648928          0.000574            0.628321   \n",
       "303           0.648929          0.000571            0.628255   \n",
       "304           0.648936          0.000572            0.628191   \n",
       "305           0.648939          0.000582            0.628137   \n",
       "306           0.648945          0.000588            0.628079   \n",
       "307           0.648947          0.000588            0.628023   \n",
       "308           0.648948          0.000580            0.627965   \n",
       "309           0.648952          0.000579            0.627904   \n",
       "\n",
       "     train-logloss-std  \n",
       "250           0.000176  \n",
       "251           0.000179  \n",
       "252           0.000185  \n",
       "253           0.000185  \n",
       "254           0.000180  \n",
       "255           0.000178  \n",
       "256           0.000177  \n",
       "257           0.000180  \n",
       "258           0.000186  \n",
       "259           0.000197  \n",
       "260           0.000198  \n",
       "261           0.000198  \n",
       "262           0.000193  \n",
       "263           0.000186  \n",
       "264           0.000176  \n",
       "265           0.000177  \n",
       "266           0.000171  \n",
       "267           0.000170  \n",
       "268           0.000175  \n",
       "269           0.000174  \n",
       "270           0.000175  \n",
       "271           0.000179  \n",
       "272           0.000183  \n",
       "273           0.000177  \n",
       "274           0.000181  \n",
       "275           0.000180  \n",
       "276           0.000179  \n",
       "277           0.000176  \n",
       "278           0.000164  \n",
       "279           0.000153  \n",
       "280           0.000160  \n",
       "281           0.000159  \n",
       "282           0.000160  \n",
       "283           0.000161  \n",
       "284           0.000160  \n",
       "285           0.000162  \n",
       "286           0.000156  \n",
       "287           0.000159  \n",
       "288           0.000148  \n",
       "289           0.000147  \n",
       "290           0.000148  \n",
       "291           0.000141  \n",
       "292           0.000138  \n",
       "293           0.000140  \n",
       "294           0.000136  \n",
       "295           0.000144  \n",
       "296           0.000150  \n",
       "297           0.000153  \n",
       "298           0.000149  \n",
       "299           0.000148  \n",
       "300           0.000145  \n",
       "301           0.000146  \n",
       "302           0.000148  \n",
       "303           0.000145  \n",
       "304           0.000147  \n",
       "305           0.000143  \n",
       "306           0.000138  \n",
       "307           0.000131  \n",
       "308           0.000132  \n",
       "309           0.000128  "
      ]
     },
     "execution_count": 51,
     "metadata": {},
     "output_type": "execute_result"
    }
   ],
   "source": [
    "bst[250:310]"
   ]
  },
  {
   "cell_type": "markdown",
   "metadata": {
    "collapsed": true
   },
   "source": [
    "## Read results and make final table"
   ]
  },
  {
   "cell_type": "code",
   "execution_count": 62,
   "metadata": {
    "collapsed": false
   },
   "outputs": [],
   "source": [
    "libFM = pd.read_csv('libFM.csv')\n",
    "libFM['log_loss'] = libFM['log_loss'] / np.log(2)\n",
    "\n",
    "XGBoost = pd.read_csv('XGBoost.csv')\n",
    "XGBoost['log_loss'] = XGBoost['log_loss'] / np.log(2)\n",
    "\n",
    "XGBoost_roles = pd.read_csv('XGBoost_roles.csv')\n",
    "XGBoost_roles['log_loss'] = XGBoost_roles['log_loss'] / np.log(2)\n",
    "\n",
    "LR_1 = pd.read_csv('LR_1.csv')\n",
    "LR_1['log_loss'] = LR_1['log_loss'] / np.log(2)\n",
    "\n",
    "LR_2_BoW = pd.read_csv('LR_2_BoW.csv')\n",
    "LR_2_BoW['log_loss'] = LR_2_BoW['log_loss'] / np.log(2)\n",
    "\n",
    "NaiveBayes = pd.read_csv('NaiveBayes.csv')\n",
    "NaiveBayes['log_loss'] = NaiveBayes['log_loss'] / np.log(2)\n",
    "\n",
    "Dummy = pd.read_csv('Dummy.csv')\n",
    "Dummy['log_loss'] = Dummy['log_loss'] / np.log(2)\n",
    "\n",
    "tables = [libFM, XGBoost, XGBoost_roles, LR_1, LR_2_BoW, NaiveBayes, Dummy]"
   ]
  },
  {
   "cell_type": "code",
   "execution_count": 78,
   "metadata": {
    "collapsed": false
   },
   "outputs": [],
   "source": [
    "all_results = []\n",
    "\n",
    "for table in tables:\n",
    "    row = np.array([])\n",
    "    for skill in ['Normal', 'High', 'Very_High']:\n",
    "        row = np.concatenate((row, table[table['skill'] == skill][['auc', 'log_loss']].mean(axis = 0).values))\n",
    "    all_results.append(row)\n",
    "all_results = np.round(np.array(all_results), 3)\n",
    "\n"
   ]
  },
  {
   "cell_type": "code",
   "execution_count": 79,
   "metadata": {
    "collapsed": false
   },
   "outputs": [
    {
     "data": {
      "text/html": [
       "<div>\n",
       "<table border=\"1\" class=\"dataframe\">\n",
       "  <thead>\n",
       "    <tr style=\"text-align: right;\">\n",
       "      <th></th>\n",
       "      <th>auc</th>\n",
       "      <th>log_loss</th>\n",
       "      <th>auc</th>\n",
       "      <th>log_loss</th>\n",
       "      <th>auc</th>\n",
       "      <th>log_loss</th>\n",
       "    </tr>\n",
       "  </thead>\n",
       "  <tbody>\n",
       "    <tr>\n",
       "      <th>libFM</th>\n",
       "      <td>0.706</td>\n",
       "      <td>0.898</td>\n",
       "      <td>0.670</td>\n",
       "      <td>0.933</td>\n",
       "      <td>0.660</td>\n",
       "      <td>0.940</td>\n",
       "    </tr>\n",
       "    <tr>\n",
       "      <th>XGBoost</th>\n",
       "      <td>0.701</td>\n",
       "      <td>0.903</td>\n",
       "      <td>0.664</td>\n",
       "      <td>0.937</td>\n",
       "      <td>0.654</td>\n",
       "      <td>0.944</td>\n",
       "    </tr>\n",
       "    <tr>\n",
       "      <th>XGBoost_roles</th>\n",
       "      <td>0.702</td>\n",
       "      <td>0.902</td>\n",
       "      <td>0.663</td>\n",
       "      <td>0.938</td>\n",
       "      <td>0.653</td>\n",
       "      <td>0.945</td>\n",
       "    </tr>\n",
       "    <tr>\n",
       "      <th>LR_1</th>\n",
       "      <td>0.687</td>\n",
       "      <td>0.916</td>\n",
       "      <td>0.656</td>\n",
       "      <td>0.943</td>\n",
       "      <td>0.643</td>\n",
       "      <td>0.952</td>\n",
       "    </tr>\n",
       "    <tr>\n",
       "      <th>LR_2_BoW</th>\n",
       "      <td>0.688</td>\n",
       "      <td>0.915</td>\n",
       "      <td>0.656</td>\n",
       "      <td>0.943</td>\n",
       "      <td>0.643</td>\n",
       "      <td>0.952</td>\n",
       "    </tr>\n",
       "    <tr>\n",
       "      <th>NaiveBayes</th>\n",
       "      <td>0.685</td>\n",
       "      <td>0.917</td>\n",
       "      <td>0.653</td>\n",
       "      <td>0.945</td>\n",
       "      <td>0.641</td>\n",
       "      <td>0.954</td>\n",
       "    </tr>\n",
       "    <tr>\n",
       "      <th>Dummy</th>\n",
       "      <td>0.500</td>\n",
       "      <td>0.996</td>\n",
       "      <td>0.500</td>\n",
       "      <td>0.999</td>\n",
       "      <td>0.500</td>\n",
       "      <td>0.999</td>\n",
       "    </tr>\n",
       "  </tbody>\n",
       "</table>\n",
       "</div>"
      ],
      "text/plain": [
       "                 auc  log_loss    auc  log_loss    auc  log_loss\n",
       "libFM          0.706     0.898  0.670     0.933  0.660     0.940\n",
       "XGBoost        0.701     0.903  0.664     0.937  0.654     0.944\n",
       "XGBoost_roles  0.702     0.902  0.663     0.938  0.653     0.945\n",
       "LR_1           0.687     0.916  0.656     0.943  0.643     0.952\n",
       "LR_2_BoW       0.688     0.915  0.656     0.943  0.643     0.952\n",
       "NaiveBayes     0.685     0.917  0.653     0.945  0.641     0.954\n",
       "Dummy          0.500     0.996  0.500     0.999  0.500     0.999"
      ]
     },
     "execution_count": 79,
     "metadata": {},
     "output_type": "execute_result"
    }
   ],
   "source": [
    "df = pd.DataFrame(all_results,\n",
    "                  columns = ['auc', 'log_loss', 'auc', 'log_loss', 'auc', 'log_loss'],\n",
    "                 index = ['libFM', 'XGBoost', 'XGBoost_roles', 'LR_1', 'LR_2_BoW', 'NaiveBayes', 'Dummy'])\n",
    "df"
   ]
  },
  {
   "cell_type": "code",
   "execution_count": 80,
   "metadata": {
    "collapsed": false
   },
   "outputs": [
    {
     "name": "stdout",
     "output_type": "stream",
     "text": [
      "\\begin{tabular}{lrrrrrr}\n",
      "\\toprule\n",
      "{} &    auc &  log\\_loss &    auc &  log\\_loss &    auc &  log\\_loss \\\\\n",
      "\\midrule\n",
      "libFM         &  0.706 &     0.898 &  0.670 &     0.933 &  0.660 &     0.940 \\\\\n",
      "XGBoost       &  0.701 &     0.903 &  0.664 &     0.937 &  0.654 &     0.944 \\\\\n",
      "XGBoost\\_roles &  0.702 &     0.902 &  0.663 &     0.938 &  0.653 &     0.945 \\\\\n",
      "LR\\_1          &  0.687 &     0.916 &  0.656 &     0.943 &  0.643 &     0.952 \\\\\n",
      "LR\\_2\\_BoW      &  0.688 &     0.915 &  0.656 &     0.943 &  0.643 &     0.952 \\\\\n",
      "NaiveBayes    &  0.685 &     0.917 &  0.653 &     0.945 &  0.641 &     0.954 \\\\\n",
      "Dummy         &  0.500 &     0.996 &  0.500 &     0.999 &  0.500 &     0.999 \\\\\n",
      "\\bottomrule\n",
      "\\end{tabular}\n",
      "\n"
     ]
    }
   ],
   "source": [
    "print df.to_latex()"
   ]
  },
  {
   "cell_type": "code",
   "execution_count": 45,
   "metadata": {
    "collapsed": false
   },
   "outputs": [
    {
     "data": {
      "text/plain": [
       "array([ 0.70577985,  0.89837925,  0.67005168,  0.9325159 ,  0.65972517,\n",
       "        0.94048252])"
      ]
     },
     "execution_count": 45,
     "metadata": {},
     "output_type": "execute_result"
    }
   ],
   "source": [
    "libFM_row"
   ]
  },
  {
   "cell_type": "code",
   "execution_count": 66,
   "metadata": {
    "collapsed": false
   },
   "outputs": [
    {
     "name": "stdout",
     "output_type": "stream",
     "text": [
      "Dummy.csv\t     libFM.csv\tLR_2_BoW.csv\tXGBoost.csv\r\n",
      "heroes_dotabuff.csv  LR_1.csv\tNaiveBayes.csv\tXGBoost_roles.csv\r\n"
     ]
    }
   ],
   "source": [
    "!ls *.csv"
   ]
  },
  {
   "cell_type": "code",
   "execution_count": 43,
   "metadata": {
    "collapsed": false
   },
   "outputs": [
    {
     "data": {
      "text/html": [
       "<div>\n",
       "<table border=\"1\" class=\"dataframe\">\n",
       "  <thead>\n",
       "    <tr style=\"text-align: right;\">\n",
       "      <th></th>\n",
       "      <th>auc</th>\n",
       "      <th>fold</th>\n",
       "      <th>log_loss</th>\n",
       "      <th>method</th>\n",
       "      <th>skill</th>\n",
       "    </tr>\n",
       "  </thead>\n",
       "  <tbody>\n",
       "    <tr>\n",
       "      <th>0</th>\n",
       "      <td>0.670384</td>\n",
       "      <td>0</td>\n",
       "      <td>0.932379</td>\n",
       "      <td>libFM</td>\n",
       "      <td>High</td>\n",
       "    </tr>\n",
       "    <tr>\n",
       "      <th>1</th>\n",
       "      <td>0.669126</td>\n",
       "      <td>1</td>\n",
       "      <td>0.932904</td>\n",
       "      <td>libFM</td>\n",
       "      <td>High</td>\n",
       "    </tr>\n",
       "    <tr>\n",
       "      <th>2</th>\n",
       "      <td>0.669729</td>\n",
       "      <td>2</td>\n",
       "      <td>0.932901</td>\n",
       "      <td>libFM</td>\n",
       "      <td>High</td>\n",
       "    </tr>\n",
       "    <tr>\n",
       "      <th>3</th>\n",
       "      <td>0.671029</td>\n",
       "      <td>3</td>\n",
       "      <td>0.931753</td>\n",
       "      <td>libFM</td>\n",
       "      <td>High</td>\n",
       "    </tr>\n",
       "    <tr>\n",
       "      <th>4</th>\n",
       "      <td>0.669990</td>\n",
       "      <td>4</td>\n",
       "      <td>0.932642</td>\n",
       "      <td>libFM</td>\n",
       "      <td>High</td>\n",
       "    </tr>\n",
       "    <tr>\n",
       "      <th>5</th>\n",
       "      <td>0.660070</td>\n",
       "      <td>0</td>\n",
       "      <td>0.940294</td>\n",
       "      <td>libFM</td>\n",
       "      <td>Very_High</td>\n",
       "    </tr>\n",
       "    <tr>\n",
       "      <th>6</th>\n",
       "      <td>0.658954</td>\n",
       "      <td>1</td>\n",
       "      <td>0.941063</td>\n",
       "      <td>libFM</td>\n",
       "      <td>Very_High</td>\n",
       "    </tr>\n",
       "    <tr>\n",
       "      <th>7</th>\n",
       "      <td>0.659079</td>\n",
       "      <td>2</td>\n",
       "      <td>0.940924</td>\n",
       "      <td>libFM</td>\n",
       "      <td>Very_High</td>\n",
       "    </tr>\n",
       "    <tr>\n",
       "      <th>8</th>\n",
       "      <td>0.660056</td>\n",
       "      <td>3</td>\n",
       "      <td>0.940339</td>\n",
       "      <td>libFM</td>\n",
       "      <td>Very_High</td>\n",
       "    </tr>\n",
       "    <tr>\n",
       "      <th>9</th>\n",
       "      <td>0.660466</td>\n",
       "      <td>4</td>\n",
       "      <td>0.939792</td>\n",
       "      <td>libFM</td>\n",
       "      <td>Very_High</td>\n",
       "    </tr>\n",
       "    <tr>\n",
       "      <th>10</th>\n",
       "      <td>0.705373</td>\n",
       "      <td>0</td>\n",
       "      <td>0.898587</td>\n",
       "      <td>libFM</td>\n",
       "      <td>Normal</td>\n",
       "    </tr>\n",
       "    <tr>\n",
       "      <th>11</th>\n",
       "      <td>0.705700</td>\n",
       "      <td>1</td>\n",
       "      <td>0.898410</td>\n",
       "      <td>libFM</td>\n",
       "      <td>Normal</td>\n",
       "    </tr>\n",
       "    <tr>\n",
       "      <th>12</th>\n",
       "      <td>0.705458</td>\n",
       "      <td>2</td>\n",
       "      <td>0.898690</td>\n",
       "      <td>libFM</td>\n",
       "      <td>Normal</td>\n",
       "    </tr>\n",
       "    <tr>\n",
       "      <th>13</th>\n",
       "      <td>0.706780</td>\n",
       "      <td>3</td>\n",
       "      <td>0.897629</td>\n",
       "      <td>libFM</td>\n",
       "      <td>Normal</td>\n",
       "    </tr>\n",
       "    <tr>\n",
       "      <th>14</th>\n",
       "      <td>0.705589</td>\n",
       "      <td>4</td>\n",
       "      <td>0.898581</td>\n",
       "      <td>libFM</td>\n",
       "      <td>Normal</td>\n",
       "    </tr>\n",
       "  </tbody>\n",
       "</table>\n",
       "</div>"
      ],
      "text/plain": [
       "         auc  fold  log_loss method      skill\n",
       "0   0.670384     0  0.932379  libFM       High\n",
       "1   0.669126     1  0.932904  libFM       High\n",
       "2   0.669729     2  0.932901  libFM       High\n",
       "3   0.671029     3  0.931753  libFM       High\n",
       "4   0.669990     4  0.932642  libFM       High\n",
       "5   0.660070     0  0.940294  libFM  Very_High\n",
       "6   0.658954     1  0.941063  libFM  Very_High\n",
       "7   0.659079     2  0.940924  libFM  Very_High\n",
       "8   0.660056     3  0.940339  libFM  Very_High\n",
       "9   0.660466     4  0.939792  libFM  Very_High\n",
       "10  0.705373     0  0.898587  libFM     Normal\n",
       "11  0.705700     1  0.898410  libFM     Normal\n",
       "12  0.705458     2  0.898690  libFM     Normal\n",
       "13  0.706780     3  0.897629  libFM     Normal\n",
       "14  0.705589     4  0.898581  libFM     Normal"
      ]
     },
     "execution_count": 43,
     "metadata": {},
     "output_type": "execute_result"
    }
   ],
   "source": [
    "libFM"
   ]
  },
  {
   "cell_type": "code",
   "execution_count": null,
   "metadata": {
    "collapsed": true
   },
   "outputs": [],
   "source": []
  }
 ],
 "metadata": {
  "kernelspec": {
   "display_name": "Python 2",
   "language": "python",
   "name": "python2"
  },
  "language_info": {
   "codemirror_mode": {
    "name": "ipython",
    "version": 2
   },
   "file_extension": ".py",
   "mimetype": "text/x-python",
   "name": "python",
   "nbconvert_exporter": "python",
   "pygments_lexer": "ipython2",
   "version": "2.7.3"
  }
 },
 "nbformat": 4,
 "nbformat_minor": 0
}
