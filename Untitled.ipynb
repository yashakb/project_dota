{
 "cells": [
  {
   "cell_type": "code",
   "execution_count": 11,
   "metadata": {
    "collapsed": true
   },
   "outputs": [],
   "source": [
    "import pandas as pd\n",
    "import numpy as np"
   ]
  },
  {
   "cell_type": "code",
   "execution_count": 2,
   "metadata": {
    "collapsed": true
   },
   "outputs": [],
   "source": [
    "roles = pd.read_csv('heroes_dotabuff.csv', index_col = 'id')"
   ]
  },
  {
   "cell_type": "code",
   "execution_count": 5,
   "metadata": {
    "collapsed": false
   },
   "outputs": [],
   "source": [
    "# def update_dict(first_dict, second_dict)\n",
    "\n",
    "\n",
    "X = np.zeros([2,226])\n",
    "X[0,np.random.randint(0,113,5)] = 1\n",
    "X[0,np.random.randint(0,113,5) + 113] = 1\n",
    "X[1,np.random.randint(0,113,5)] = 1\n",
    "X[1,np.random.randint(0,113,5) + 113] = 1\n",
    "new_feat_rad = []\n",
    "for i in X[:,:113]:\n",
    "    rad_roles = roles.ix[np.where(i == 1)[0], role_names].sum(axis = 0)\n",
    "    new_feat_rad.append(rad_roles.as_matrix())\n",
    "    \n",
    "new_feat_dire = []\n",
    "for i in X[:,113:]:\n",
    "    dire_roles = roles.ix[np.where(i == 1)[0], role_names].sum(axis = 0)\n",
    "    new_feat_dire.append(dire_roles.as_matrix())"
   ]
  },
  {
   "cell_type": "code",
   "execution_count": 10,
   "metadata": {
    "collapsed": false
   },
   "outputs": [
    {
     "data": {
      "text/plain": [
       "(2, 235)"
      ]
     },
     "execution_count": 10,
     "metadata": {},
     "output_type": "execute_result"
    }
   ],
   "source": [
    "np.concatenate((X, np.array(new_feat_rad)), axis = 1).shape"
   ]
  },
  {
   "cell_type": "code",
   "execution_count": 4,
   "metadata": {
    "collapsed": false
   },
   "outputs": [],
   "source": [
    "role_names = roles.columns.values[3:12]"
   ]
  },
  {
   "cell_type": "code",
   "execution_count": 13,
   "metadata": {
    "collapsed": false
   },
   "outputs": [],
   "source": [
    "matches = pd.read_csv('matches.csv.bz2', compression = 'bz2')\n",
    "matches = matches.drop_duplicates()\n",
    "high_skill = matches[matches['skill'] == 2]\n",
    "\n",
    "rad_heroes = ['r1_hero_id', 'r2_hero_id', 'r3_hero_id', 'r4_hero_id', 'r5_hero_id']\n",
    "dire_heroes = ['d1_hero_id', 'd2_hero_id', 'd3_hero_id', 'd4_hero_id', 'd5_hero_id']\n",
    "\n",
    "X_high = np.zeros([high_skill.shape[0], 226])\n",
    "X_high[np.tile(np.arange(high_skill.shape[0]),[5,1]).T.ravel(),\n",
    "       high_skill[rad_heroes].as_matrix().ravel() - 1] = 1.0\n",
    "X_high[np.tile(np.arange(high_skill.shape[0]),[5,1]).T.ravel(), \n",
    "       high_skill[dire_heroes].as_matrix().ravel() + 112] = 1.0\n",
    "\n",
    "y_high = high_skill['radiant_win'].as_matrix()\n",
    "\n",
    "del matches"
   ]
  },
  {
   "cell_type": "code",
   "execution_count": 19,
   "metadata": {
    "collapsed": true
   },
   "outputs": [],
   "source": [
    "import pickle\n",
    "with open('CV_high.pkl', 'r') as f:\n",
    "    cv = pickle.load(f)\n"
   ]
  },
  {
   "cell_type": "code",
   "execution_count": 22,
   "metadata": {
    "collapsed": false
   },
   "outputs": [],
   "source": [
    "for tr, test in cv:\n",
    "    break"
   ]
  },
  {
   "cell_type": "code",
   "execution_count": 28,
   "metadata": {
    "collapsed": false
   },
   "outputs": [],
   "source": [
    "from fastFM import mcmc\n",
    "from scipy.sparse import csr_matrix\n",
    "X_tr = csr_matrix(X_high[tr, :])\n",
    "y_tr = y_high[tr]\n",
    "X_test = csr_matrix(X_high[test,:])\n",
    "y_test = y_high[test]"
   ]
  },
  {
   "cell_type": "code",
   "execution_count": 37,
   "metadata": {
    "collapsed": false
   },
   "outputs": [
    {
     "name": "stdout",
     "output_type": "stream",
     "text": [
      "CPU times: user 9min 42s, sys: 0 ns, total: 9min 42s\n",
      "Wall time: 9min 42s\n"
     ]
    }
   ],
   "source": [
    "%%time\n",
    "fm = mcmc.FMClassification(n_iter=50, rank=30)\n",
    "y_test_pred_30 = fm.fit_predict_proba(X_tr, y_tr, X_test)"
   ]
  },
  {
   "cell_type": "code",
   "execution_count": 38,
   "metadata": {
    "collapsed": false
   },
   "outputs": [
    {
     "data": {
      "text/plain": [
       "(0.67038420449535785, 0.64627573049842912)"
      ]
     },
     "execution_count": 38,
     "metadata": {},
     "output_type": "execute_result"
    }
   ],
   "source": [
    "from sklearn.metrics import roc_auc_score, log_loss\n",
    "roc_auc_score(y_test, y_test_pred_30), log_loss(y_test, y_test_pred_20) "
   ]
  },
  {
   "cell_type": "code",
   "execution_count": null,
   "metadata": {
    "collapsed": true
   },
   "outputs": [],
   "source": []
  }
 ],
 "metadata": {
  "kernelspec": {
   "display_name": "Python 2",
   "language": "python",
   "name": "python2"
  },
  "language_info": {
   "codemirror_mode": {
    "name": "ipython",
    "version": 2
   },
   "file_extension": ".py",
   "mimetype": "text/x-python",
   "name": "python",
   "nbconvert_exporter": "python",
   "pygments_lexer": "ipython2",
   "version": "2.7.3"
  }
 },
 "nbformat": 4,
 "nbformat_minor": 0
}
